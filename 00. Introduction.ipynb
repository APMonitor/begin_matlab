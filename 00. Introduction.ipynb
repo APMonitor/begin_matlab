{
 "cells": [
  {
   "cell_type": "markdown",
   "metadata": {},
   "source": [
    "# Introduction to Matlab\n",
    "\n",
    "Welcome to this introductory course on Matlab! This course is intended to help you start programming in Matlab from little or no prior experience. There are video tutorials for each exercise if you have questions along the way.\n",
    "\n",
    "[![Intro to Matlab](https://apmonitor.com/che263/uploads/Begin_Matlab/BeginMatlab00.png)](https://www.youtube.com/watch?v=EO_YpBs8cs0&list=PLLBUgWXdTBDi3J05aMVG1knUpqRhkbc46 \"Introduction to Matlab\")\n",
    "\n",
    "One of the unique things about this course is that you work on basic elements to help you with a temperature control project. You will see your Matlab code have a real effect by adjusting heaters to maintain a target temperature, just like a thermostat in a home or office.\n",
    "\n",
    "![temperature](https://apmonitor.com/che263/uploads/Begin_Matlab/temperature.png)\n",
    "\n",
    "One of the best ways to start or review a programming language is to work on a simple project. These exercises are designed to teach basic Matlab programming skills to help you design a temperature controller.\n",
    "\n",
    "![programming](https://apmonitor.com/che263/uploads/Begin_Matlab/programming.png)\n",
    "\n",
    "Temperature control is found in many applications such as home or office HVAC, manufacturing processes, transportation, and life sciences. Even our bodies regulate to a specific temperature.\n",
    "\n",
    "![buildings](https://apmonitor.com/che263/uploads/Begin_Matlab/buildings.png)"
   ]
  },
  {
   "cell_type": "markdown",
   "metadata": {},
   "source": [
    "## Step 1: Get a TCLab\n",
    "\n",
    "This project is to regulate the temperature of the [Temperature Control Lab (TCLab)](https://apmonitor.com/heat.htm).\n",
    "\n",
    "![buildings](https://apmonitor.com/pdc/uploads/Main/tclab_connect.png)\n",
    "\n",
    "Each TCLab has thermochromic (changes color with temperature) paint that turns from black to purple when the temperature reaches the target temperature of 37°C (99°F).\n",
    "\n",
    "![pid control](https://apmonitor.com/pdc/uploads/Main/pid_control.gif)"
   ]
  },
  {
   "cell_type": "markdown",
   "metadata": {},
   "source": [
    "## Step 2: Install Matlab or GNU Octave with Arduino Support"
   ]
  },
  {
   "cell_type": "markdown",
   "metadata": {},
   "source": [
    "![matlab](https://apmonitor.com/che263/uploads/Begin_Matlab/matlab.png)\n",
    "\n",
    "### Matlab\n",
    "\n",
    "Install [Matlab](https://www.mathworks.com/products/matlab.html) with the Arduino Support Package for Matlab and Simulink (2 separate Add-ons).\n",
    "\n",
    "[![Install MATLAB](http://img.youtube.com/vi/waWgl7-D8GM/0.jpg)](https://www.youtube.com/watch?v=waWgl7-D8GM \"Install MATLAB with Add-Ons\")\n",
    "\n",
    "[![Install MATLAB Arduino Support](http://img.youtube.com/vi/DFvUJh8AYjE/0.jpg)](https://www.youtube.com/watch?v=DFvUJh8AYjE \"Install MATLAB Arduino Support\")\n",
    "\n",
    "There are [additional instructions on installing Matlab and managing modules](https://apmonitor.com/che263/index.php/Main/MatlabIntroduction)."
   ]
  },
  {
   "cell_type": "markdown",
   "metadata": {},
   "source": [
    "![octave](https://apmonitor.com/che263/uploads/Begin_Matlab/octave.png)\n",
    "\n",
    "### Octave\n",
    "\n",
    "If Matlab is not available, a freely available alternative is [GNU Octave](https://www.gnu.org/software/octave/). Octave has very similar syntax to Matlab and can also be used for this course. Install the Arduino support package from the Octave terminal with:\n",
    "\n",
    "```octave\n",
    "pkg install -forge arduino\n",
    "```"
   ]
  },
  {
   "cell_type": "markdown",
   "metadata": {},
   "source": [
    "## Step 3: Install Jupyter Notebook or Jupyter Lab\n",
    "\n",
    "You can either run the code exercises in the Matlab or Octave or from the Jupyter Notebook. Jupyter is not required for this course but it does make it easier to run code snippets and observe the results. Also the code can be run from a web-browser and fully integrated with the instructions. Jupyter Lab is a newer Integrated Development Environment (IDE) than Jupyter Notebook.   It is the next-generation web-based user interface for Project Jupyter. Both Jupyter Lab and Jupyter Notebooks can be used for Matlab or Octave.\n",
    "\n",
    "[Download Jupyter Notebook or Jupyter Labs](https://www.anaconda.com/distribution/) or [watch a video on how to install it](https://youtu.be/LrMOrMb8-3s \"Install Jupyter Notebook\"). The video is about how to install Anaconda and a few things you can do with Anaconda with Python although we'll be using Octave or Matlab for this course.\n",
    "\n",
    "[![Install Anaconda](http://img.youtube.com/vi/LrMOrMb8-3s/0.jpg)](https://www.youtube.com/watch?v=LrMOrMb8-3s \"Install Anaconda on Windows\")\n",
    "\n",
    "You can also [install Jupyter Notebook or JupyterLab](https://www.youtube.com/watch?v=eUq-6ZuwC_A) from the command terminal."
   ]
  },
  {
   "cell_type": "markdown",
   "metadata": {},
   "source": [
    "### Option 1: Jupyter Notebook for Matlab\n",
    "\n",
    "For Matlab to run in a Jupyter notebook, you need to install the python engine. The MATLAB root for Windows is typically `C:\\Program Files\\MATLAB\\R2020a` or with a another folder such as `R2019a` or `R2018b` that is the current release. The minimum requirement for this course is `R2016a` because earlier versions don't support the Arduino Leonardo connection.\n",
    "\n",
    "```bash\n",
    "cd \"<matlabroot>/extern/engines/python\"\n",
    "python setup.py install\n",
    "```\n",
    "\n",
    "Next, install the Matlab kernel for Jupyter Notebooks or Jupyter Lab\n",
    "\n",
    "```bash\n",
    "pip install matlab_kernel\n",
    "```\n",
    "\n",
    "### Option 2: Jupyter Notebook for Octave\n",
    "\n",
    "For Octave to run in a Jupyter notebook, you need to install the `octave_kernel`.\n",
    "\n",
    "```bash\n",
    "pip install octave_kernel\n",
    "```\n",
    "\n",
    "Also, you need to add `octave_cli.exe` to the `PATH` variable in Windows."
   ]
  },
  {
   "cell_type": "markdown",
   "metadata": {},
   "source": [
    "### Test Setup\n",
    "\n",
    "You are now all set to go! Run the code below to download the `tclab.m` program file that will be used throughout the course. To run the cell, select the play button in the toolbar at the top or else type `Ctrl-Enter`."
   ]
  },
  {
   "cell_type": "code",
   "execution_count": 1,
   "metadata": {},
   "outputs": [
    {
     "name": "stdout",
     "output_type": "stream",
     "text": [
      "\n"
     ]
    }
   ],
   "source": [
    "file = 'tclab.m';\n",
    "url = 'https://github.com/APMonitor/begin_matlab/blob/master/tclab.m';\n",
    "\n",
    "if ~exist(file)\n",
    "    try\n",
    "        % for MATLAB\n",
    "        websave(file,url);\n",
    "    catch\n",
    "        % for Octave\n",
    "        urlwrite(url,file);\n",
    "    end\n",
    "end"
   ]
  },
  {
   "cell_type": "markdown",
   "metadata": {},
   "source": [
    "Connect the TCLab blue USB cable to your computer. \n",
    "\n",
    "![connect](https://apmonitor.com/che263/uploads/Begin_Matlab/connections_no_power.png)\n",
    "\n",
    "Run the following cell to turn on the TCLAb LED for 5 seconds and verify that the install is working correctly. Type `Ctrl-Enter` to run the cell."
   ]
  },
  {
   "cell_type": "code",
   "execution_count": 3,
   "metadata": {},
   "outputs": [
    {
     "name": "stdout",
     "output_type": "stream",
     "text": [
      "\n"
     ]
    }
   ],
   "source": [
    "clear all\n",
    "lab = tclab; % include tclab.m\n",
    "lab.LED(100);\n",
    "pause(5); % Pause for 5 seconds\n",
    "lab.LED(0);\n",
    "lab.off(); clear lab"
   ]
  }
 ],
 "metadata": {
  "kernelspec": {
   "display_name": "Matlab",
   "language": "matlab",
   "name": "matlab"
  },
  "language_info": {
   "codemirror_mode": "octave",
   "file_extension": ".m",
   "help_links": [
    {
     "text": "MetaKernel Magics",
     "url": "https://metakernel.readthedocs.io/en/latest/source/README.html"
    }
   ],
   "mimetype": "text/x-octave",
   "name": "matlab",
   "version": "0.16.9"
  }
 },
 "nbformat": 4,
 "nbformat_minor": 2
}
