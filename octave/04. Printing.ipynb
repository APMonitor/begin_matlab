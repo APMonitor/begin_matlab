{
 "cells": [
  {
   "cell_type": "markdown",
   "metadata": {},
   "source": [
    "## 4. Printing\n",
    "\n",
    "![exercise](https://apmonitor.com/che263/uploads/Begin_Matlab/exercise.png)\n",
    "\n",
    "Printing is displaying values to the terminal. You use the built in Matlab __functions__ ```disp()``` or ```fprintf()``` to display values.\n",
    "\n",
    "[<img src=\"https://apmonitor.com/che263/uploads/Begin_Matlab/BeginMatlab04.png\" alt=\"YouTube Video\" width=\"550\"/>](https://www.youtube.com/watch?v=Y3-YCV76Ufg&list=PLLBUgWXdTBDhJJnJW2q2G7e84MZM6dxRN \"Course Overview\")\n",
    "\n",
    "You could use print statements update the current temperature of the incubator. Get more practice by putting something different in the function and running the program."
   ]
  },
  {
   "cell_type": "code",
   "execution_count": null,
   "metadata": {},
   "outputs": [],
   "source": [
    "T = 37.2;\n",
    "disp(['The temperature of the egg is ',num2str(T)])\n",
    "fprintf('The temperature of the egg is %.2f',T)"
   ]
  },
  {
   "cell_type": "markdown",
   "metadata": {},
   "source": [
    "You can also print other information such as the type of a variable with `class()`."
   ]
  },
  {
   "cell_type": "code",
   "execution_count": null,
   "metadata": {},
   "outputs": [],
   "source": [
    "eggs = 200 % integer variable\n",
    "disp(class(eggs))\n",
    "\n",
    "egg_type = \"Platypus\" % string variable\n",
    "disp(class(egg_type))\n",
    "\n",
    "yes = true % Boolean variable\n",
    "disp(class(yes))"
   ]
  },
  {
   "cell_type": "markdown",
   "metadata": {},
   "source": [
    "Now using information from the previous lesson, combine different value types by displaying a ```double``` and a ```char``` together. This is similar but instead of putting them in a variable, you are displaying them to the screen. You'll have to change the value type for it to work like in the previous activity such as `num2str()` to convert a number to a string. You can also convert a string to a number with `str2num()`."
   ]
  },
  {
   "cell_type": "code",
   "execution_count": null,
   "metadata": {},
   "outputs": [],
   "source": [
    "myNumberString = '62'\n",
    "class(myNumberString)\n",
    "myNumberInt = str2num(myNumberString)\n",
    "class(myNumberInt)\n",
    "disp([myNumberString,myNumberInt]) # Print a string and number together, correctly"
   ]
  },
  {
   "cell_type": "markdown",
   "metadata": {},
   "source": [
    "You can use two __variables__ in a ```disp``` function by doing something like this ```disp([var1, var2])```. If you want more practice put different strings into the __variables__."
   ]
  },
  {
   "cell_type": "code",
   "execution_count": null,
   "metadata": {},
   "outputs": [],
   "source": [
    "var1 = 'Put something here'\n",
    "var2 = \" and put something here.\"\n",
    "disp([var1, var2]) # Prints both"
   ]
  },
  {
   "cell_type": "markdown",
   "metadata": {},
   "source": [
    "You can also use commas to separate things when displaying but they must always be the same type (e.g. no mixing ```char``` and ```double```). Use `%.0f` to display the integer portion of the number in `fprintf`."
   ]
  },
  {
   "cell_type": "code",
   "execution_count": null,
   "metadata": {},
   "outputs": [],
   "source": [
    "T = 45.7\n",
    "disp([\"You are cooking the egg at \", int2str(var2), \"°C, cool down!\"])\n",
    "fprintf('You are cooking the egg at %.0f°C, cool down!',var2)"
   ]
  },
  {
   "cell_type": "markdown",
   "metadata": {},
   "source": [
    "### Displaying Results\n",
    "\n",
    "![idea](https://apmonitor.com/che263/uploads/Begin_Matlab/idea.png)\n",
    "\n",
    "Jupyter Notebook automatically displays the expressions in a cell that do not end with a semi-colon ```;```. Removing the ```;``` is useful when you need to display the output. Run the code below and put in different equations to check your understanding."
   ]
  },
  {
   "cell_type": "code",
   "execution_count": null,
   "metadata": {
    "scrolled": true
   },
   "outputs": [],
   "source": [
    "3*5\n",
    "5*2;"
   ]
  },
  {
   "cell_type": "markdown",
   "metadata": {},
   "source": [
    "Another way to ensure display is to use a ```disp()``` function and you can get output for the line."
   ]
  },
  {
   "cell_type": "code",
   "execution_count": null,
   "metadata": {},
   "outputs": [],
   "source": [
    "disp(14/2)\n",
    "disp(7*2)\n",
    "disp(3+11)"
   ]
  },
  {
   "cell_type": "markdown",
   "metadata": {},
   "source": [
    "### Activity \n",
    "\n",
    "![expert](https://apmonitor.com/che263/uploads/Begin_Matlab/expert.png)\n",
    "\n",
    "Make two __variables__ that will add two numbers when you print them together. This is kind of like the example above, but use numbers in your variables. "
   ]
  },
  {
   "cell_type": "code",
   "execution_count": null,
   "metadata": {},
   "outputs": [],
   "source": [
    "        % First number variable\n",
    "        % Second number variable\n",
    "disp(\"\")  % Print together"
   ]
  },
  {
   "cell_type": "markdown",
   "metadata": {},
   "source": [
    "If you assign the same variable twice it simply changes values.\n",
    "\n",
    "```octave\n",
    "test = 3\n",
    "test = \"egg\"```\n",
    "\n",
    "Do the same here, except now print the variable and `class()` in between variable assignments so you can see how it works."
   ]
  },
  {
   "cell_type": "code",
   "execution_count": null,
   "metadata": {},
   "outputs": [],
   "source": [
    "test = 3;\n",
    "        # display here\n",
    "test = \"egg\";\n",
    "        # display here"
   ]
  },
  {
   "cell_type": "markdown",
   "metadata": {},
   "source": [
    "Use the variable with an equation to display 500. You need to make the ```disp()``` have an equation in order to change the output value."
   ]
  },
  {
   "cell_type": "code",
   "execution_count": null,
   "metadata": {},
   "outputs": [],
   "source": [
    "equation = 25*4\n",
    "disp(equation    ) % Make an equation to equal 500"
   ]
  },
  {
   "cell_type": "markdown",
   "metadata": {},
   "source": [
    "![expert](https://apmonitor.com/che263/uploads/Begin_Matlab/expert.png)\n",
    "\n",
    "Connect the USB communication cable to the Arduino. The white power cable is not needed for this exercise.\n",
    "\n",
    "![connections_no_power](https://apmonitor.com/che263/uploads/Begin_Matlab/connections_no_power.png)\n",
    "\n",
    "Calculate the median of 3 temperature values. Connect to the TCLab with `lab=tclab`, read the temperature values 3 times with `lab.T1`, store the values in variables `TC1`, `TC2`, and `TC3`, and display the median of the 3 values. Close the connection to the TCLab with `clear lab`.\n",
    "\n",
    "Create a single line that displays the 3 values and the median such as:\n",
    "\n",
    "```octave\n",
    "The median of 23.52, 23.23, and 23.74 is 23.52.\n",
    "```\n",
    "\n",
    "You can combine the numbers by creating an Array such as\n",
    "\n",
    "```octave\n",
    "disp([\"The median of \", num2str(TC1), \", \", num2str(TC2), \", ...\"])\n",
    "```"
   ]
  },
  {
   "cell_type": "code",
   "execution_count": null,
   "metadata": {},
   "outputs": [],
   "source": [
    "clear all\n",
    "lab = tclab;\n",
    "TC1=lab.T1; TC2=lab.T1; TC3=lab.T1;\n",
    "TM = median([TC1,TC2,TC3])\n",
    "clear lab"
   ]
  }
 ],
 "metadata": {
  "kernelspec": {
   "display_name": "Octave",
   "language": "octave",
   "name": "octave"
  },
  "language_info": {
   "file_extension": ".m",
   "help_links": [
    {
     "text": "GNU Octave",
     "url": "https://www.gnu.org/software/octave/support.html"
    },
    {
     "text": "Octave Kernel",
     "url": "https://github.com/Calysto/octave_kernel"
    },
    {
     "text": "MetaKernel Magics",
     "url": "https://metakernel.readthedocs.io/en/latest/source/README.html"
    }
   ],
   "mimetype": "text/x-octave",
   "name": "octave",
   "version": "5.2.0"
  }
 },
 "nbformat": 4,
 "nbformat_minor": 4
}
