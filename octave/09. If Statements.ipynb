{
 "cells": [
  {
   "cell_type": "markdown",
   "metadata": {},
   "source": [
    "## 9. ```if``` Statements\n",
    "\n",
    "![list](https://apmonitor.com/che263/uploads/Begin_Python/list.png)\n",
    "\n",
    "If and else statements tell the computer what to do based on a `true` condition.\n",
    "\n",
    "[<img src=\"https://apmonitor.com/che263/uploads/Begin_Matlab/BeginMatlab09.png\" alt=\"YouTube Video\" width=\"550\"/>](https://www.youtube.com/watch?v=wuWLVbBFPuc&list=PLLBUgWXdTBDi3J05aMVG1knUpqRhkbc46 \"Course Overview\")\n",
    "\n",
    "This could be used for the temperature of the egg by telling the heaters to turn on, if the egg is too cold.\n",
    "\n",
    "![hatch](https://apmonitor.com/che263/uploads/Begin_Python/hatch.png)\n",
    "\n",
    "### ```if```\n",
    "```if``` is a certain condition, in this case ```if``` the number is greater than 21, it will print something. Practice using ```if``` by running the code and putting in a value _more_ or _less_ than 21."
   ]
  },
  {
   "cell_type": "code",
   "execution_count": null,
   "metadata": {},
   "outputs": [],
   "source": [
    "days = input(\"Enter how long the egg has been in the incubator: \")\n",
    "if days < 21  % Display if days is less than 21 days\n",
    "    disp(\"The chick is still developing\")\n",
    "end"
   ]
  },
  {
   "cell_type": "markdown",
   "metadata": {},
   "source": [
    "### ```else```\n",
    "Else statements will execute code if no ```if``` statements are executed. Check your understanding by predicting the result and then running the code with a value _more_ or _less_ than 21."
   ]
  },
  {
   "cell_type": "code",
   "execution_count": null,
   "metadata": {},
   "outputs": [],
   "source": [
    "days = input(\"Enter the days: \")\n",
    "\n",
    "if days > 21\n",
    "    disp(\"Chick should have hatched out of egg\")   \n",
    "else\n",
    "    disp(\"The chick is still developing\")\n",
    "end"
   ]
  },
  {
   "cell_type": "markdown",
   "metadata": {},
   "source": [
    "**Make your own `if` statement**\n",
    "\n",
    "Practice `if` statements by making your own `if` and `else` statement using user input, with your own idea. Make sure it displays something when it is done."
   ]
  },
  {
   "cell_type": "code",
   "execution_count": null,
   "metadata": {},
   "outputs": [],
   "source": []
  },
  {
   "cell_type": "markdown",
   "metadata": {},
   "source": [
    "## elseif\n",
    "```elseif```, or else if, statements are a continued if statement. When the first `if` doesn't work, it will go down to the next ```elseif``` and so on. You can have as many ```elseif``` statements as you need. Check your understanding by using the right input value to get ```elseif``` statement to run."
   ]
  },
  {
   "cell_type": "code",
   "execution_count": null,
   "metadata": {},
   "outputs": [],
   "source": [
    "days = input('Enter days ')\n",
    "\n",
    "if days > 21\n",
    "    disp('Chick should have hatched out of egg')    \n",
    "elseif days > 18\n",
    "    disp('Chick should hatch soon')\n",
    "else # Executes only when everything else doesn't work\n",
    "    disp('The chick is still developing')\n",
    "end"
   ]
  },
  {
   "cell_type": "markdown",
   "metadata": {},
   "source": [
    "You can also have an ```if``` statement inside another ```if``` statement. You can also use the __comparative__ statements. These include things like and ```&```, or ```|```, and more.\n",
    "\n",
    "| Functions | Meaning |\n",
    "| --- | --- |\n",
    "| `&` | Logical AND |\n",
    "| `~` | Logical NOT |\n",
    "| `\\|` | Logical OR  |\n",
    "| `xor` | Logical exclusive-OR |\n",
    "| `all` | `true` if all array elements are `true` (or nonzero) |\n",
    "| `any` | `true` if any array elements are `true` (or nonzero) |\n",
    "| `false` | Logical 0 |\n",
    "| `true` | Logical 1 |\n",
    "\n",
    "\n",
    "Practice modifying the code to what you like and add other ```if``` statements for the missing days such as when a negative number is entered."
   ]
  },
  {
   "cell_type": "code",
   "execution_count": null,
   "metadata": {},
   "outputs": [],
   "source": [
    "x = input(\"How long has the egg been in the incubator? \")\n",
    "\n",
    "if x < 21 & x > 18\n",
    "    disp('Chick should hatch soon')\n",
    "elseif x >= 21\n",
    "    if x > 25\n",
    "        disp(\"Chick probably won't hatch\")\n",
    "    else\n",
    "        disp('Chick should have hatched out of egg')\n",
    "    end\n",
    "else\n",
    "    disp('The chick is still developing')\n",
    "end"
   ]
  },
  {
   "cell_type": "markdown",
   "metadata": {},
   "source": [
    "### Activity\n",
    "\n",
    "![expert](https://apmonitor.com/che263/uploads/Begin_Python/expert.png)\n",
    "\n",
    "Use ```if``` and ```elseif``` statements to create a calculator using basic operators. Have the user input two values to be operated on. Have an option to use addition, subtraction, multiplication, and division on those two numbers. Make sure you print the finished answer. "
   ]
  },
  {
   "cell_type": "code",
   "execution_count": null,
   "metadata": {},
   "outputs": [],
   "source": [
    "x = input(\"Enter your first value: \")\n",
    "y = input(\"Enter your second value: \")"
   ]
  },
  {
   "cell_type": "markdown",
   "metadata": {},
   "source": [
    "![expert](https://apmonitor.com/che263/uploads/Begin_Python/expert.png)\n",
    "\n",
    "Use ```if``` statements in a ```while``` loop. Create code that turns on the __LED__ when the temperature goes above 30°C, and disconnects the kit and turns off the __LED__ when the temperature goes above 35°C, and output the temperature every time the program loops. Set the heater power with a value from ```input```. "
   ]
  },
  {
   "cell_type": "code",
   "execution_count": null,
   "metadata": {},
   "outputs": [],
   "source": [
    "clear all\n",
    "lab = tclab;\n",
    "\n",
    "#while temp < 35\n",
    "    #if temp < 30\n",
    "    #end\n",
    "#end\n",
    "\n",
    "lab.off(); clear lab"
   ]
  },
  {
   "cell_type": "markdown",
   "metadata": {},
   "source": [
    "![expert](https://apmonitor.com/che263/uploads/Begin_Python/expert.png)\n",
    "\n",
    "Make a guessing game that makes a random LED percent and the user has to type inputs to guess it. Make the program say higher or lower depending on the guess. When the guess is correct, flash the LED for a few seconds and disconnect.\n",
    "\n",
    "You can use ```while``` loops, ```for``` loops, ```if``` and ```else``` statements, ```input```, ```disp```. Use any combination to create the program."
   ]
  },
  {
   "cell_type": "code",
   "execution_count": null,
   "metadata": {},
   "outputs": [],
   "source": [
    "randomLED = randi([1 100]) % This makes a random value between 1 and 100"
   ]
  }
 ],
 "metadata": {
  "anaconda-cloud": {},
  "kernelspec": {
   "display_name": "Octave",
   "language": "octave",
   "name": "octave"
  },
  "language_info": {
   "file_extension": ".m",
   "help_links": [
    {
     "text": "GNU Octave",
     "url": "https://www.gnu.org/software/octave/support.html"
    },
    {
     "text": "Octave Kernel",
     "url": "https://github.com/Calysto/octave_kernel"
    },
    {
     "text": "MetaKernel Magics",
     "url": "https://metakernel.readthedocs.io/en/latest/source/README.html"
    }
   ],
   "mimetype": "text/x-octave",
   "name": "octave",
   "version": "5.2.0"
  }
 },
 "nbformat": 4,
 "nbformat_minor": 4
}
