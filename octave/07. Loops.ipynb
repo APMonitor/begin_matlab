{
 "cells": [
  {
   "cell_type": "markdown",
   "metadata": {},
   "source": [
    "## 7. Loops\n",
    "\n",
    "![list](https://apmonitor.com/che263/uploads/Begin_Matlab/list.png)\n",
    "\n",
    "There are two basic types of loops including `for` and `while`. An example of a loop is to check the temperature of the egg every second and adjust the heater. The loop may continue for a determine amount of time or until a certain condition is met.\n",
    "\n",
    "[<img src=\"https://apmonitor.com/che263/uploads/Begin_Matlab/BeginMatlab07.png\" alt=\"YouTube Video\" width=\"550\"/>](https://www.youtube.com/watch?v=1L_72OkRD7k&list=PLLBUgWXdTBDhJJnJW2q2G7e84MZM6dxRN \"Course Overview\")\n",
    "\n",
    "### While Loops\n",
    "\n",
    "![idea](https://apmonitor.com/che263/uploads/Begin_Matlab/idea.png)\n",
    "\n",
    "While loops work by repeating until the condition becomes ```false```. The way they are coded can almost be said as a sentence. ```while x > 0:``` While x is greater than 0.\n",
    "\n",
    "A `while` loop can get stuck in an infinite loop if the condition for termination is never met. You can stop the infinite loop by setting the value of ```true``` to become ```false``` in many ways. In the code below, the infinite loop is broken by making ```x``` one less each time it goes through the loop, with ```x = x - 1```. \n",
    "\n",
    "See how the loop changes by changing the value of ```x```."
   ]
  },
  {
   "cell_type": "code",
   "execution_count": null,
   "metadata": {
    "scrolled": true
   },
   "outputs": [],
   "source": [
    "disp('Are you done yet?')\n",
    "\n",
    "x = 8;                                   % Change this number\n",
    "\n",
    "while x >= 5                             % Code stops when x is less than or equal to 5\n",
    "    disp([\"Almost done \", num2str(x)]);  % Uses the value in the loop\n",
    "    x = x - 1;                           % Makes x one less each loop\n",
    "end"
   ]
  },
  {
   "cell_type": "markdown",
   "metadata": {},
   "source": [
    "Tip: ```x = x - 1``` can be simplified into ```x -= 1```. They mean the same thing, it's just a little shorter. This is true for most other math operators. ```+=```, ```*=```, ```/=```, are all valid operators."
   ]
  },
  {
   "cell_type": "code",
   "execution_count": null,
   "metadata": {},
   "outputs": [],
   "source": [
    "x = 5;\n",
    "x *= 3;\n",
    "disp(x)"
   ]
  },
  {
   "cell_type": "markdown",
   "metadata": {},
   "source": [
    "Another thing used in while loops is the ```==``` symbols. Just one ```=``` means you are assigning a variable, but you shouldn't do that in the condition that tells the ```while``` loop when to end. Instead use the ```==``` to tell the code you are comparing the two values. For example:\n",
    "```octave\n",
    "while x == 0\n",
    "```\n",
    "\n",
    "This while loop continues while `x` is equal to zero. This example also shows how to create nested loops."
   ]
  },
  {
   "cell_type": "code",
   "execution_count": null,
   "metadata": {},
   "outputs": [],
   "source": [
    "x = 0;\n",
    "\n",
    "disp('First While Loop')\n",
    "while x == 0\n",
    "    disp(x)\n",
    "    x += 1;\n",
    "    disp('Second (Nested) While Loop')\n",
    "    while x <= 3\n",
    "        disp(x)\n",
    "        x += 1;\n",
    "    end\n",
    "end\n",
    "disp('Third While Loop')\n",
    "while x <= 5\n",
    "    disp(x)\n",
    "    x += 1;\n",
    "end"
   ]
  },
  {
   "cell_type": "markdown",
   "metadata": {},
   "source": [
    "### For Loops\n",
    "\n",
    "![exercise](https://apmonitor.com/che263/uploads/Begin_Matlab/exercise.png)\n",
    "\n",
    "For loops are when you already know the number of times the loop should repeat. A ```while``` loop is when you don't know the number of times to cycle through the instructions when you start. They are formatted ```for i = 1:4```. The ```i``` is just a typical iterator. You can enter any variable name you like instead of `i`. \n",
    "\n",
    "The ```i```, is used to keep track of the current loop count. The numbers to the right of the ```=``` indicate what values the `for` loop iterates through."
   ]
  },
  {
   "cell_type": "markdown",
   "metadata": {},
   "source": [
    "#### Variable\n",
    "You can also enter a variable to control the number of `for` loop cycles such as the use of `y`. The variable is used in the `for` loop to determine the number of cycles."
   ]
  },
  {
   "cell_type": "code",
   "execution_count": null,
   "metadata": {},
   "outputs": [],
   "source": [
    "disp('Echos in a canyon:')\n",
    "y = 5\n",
    "for i = 1:y\n",
    "    disp('hello')\n",
    "end"
   ]
  },
  {
   "cell_type": "markdown",
   "metadata": {},
   "source": [
    "#### Using ```i```\n",
    "\n",
    "In a `for` loop the ```i``` variable, in ```for i=start:stop```, can be used during the repeating loop. Every time the for loop goes again, the value of `i` goes to the next value. You can use `i` in a loop to do different things based on the cycle number. This is similar to the ```while``` loop example where we used this code: `disp([\"Almost done \",num2str(x)])`"
   ]
  },
  {
   "cell_type": "code",
   "execution_count": null,
   "metadata": {},
   "outputs": [],
   "source": [
    "disp('Loop 1')\n",
    "for i =1:5\n",
    "    disp(i)\n",
    "end\n",
    "disp('Loop 2: Count-up by 2s')\n",
    "for i = 0:2:9\n",
    "    disp(i)\n",
    "end\n",
    "disp('Loop 3: Count-down by 2s')\n",
    "for i = 10:-2:0\n",
    "    disp(i)\n",
    "end"
   ]
  },
  {
   "cell_type": "markdown",
   "metadata": {},
   "source": [
    "### Activity\n",
    "\n",
    "![expert](https://apmonitor.com/che263/uploads/Begin_Matlab/expert.png)\n",
    "\n",
    "Create a ```for``` loop that prints out each letter of your name, __backwards__.\n",
    "\n",
    "```python\n",
    "char_array(i)\n",
    "``` \n",
    "\n",
    "This function finds the index of a string. The first character of ```[hi]``` is ```h``` and the second character is ```i```.\n",
    "\n",
    "```octave\n",
    "length(string)\n",
    "```\n",
    "\n",
    "The length function gives the length of a string. ```length(waffles)``` is ```7```."
   ]
  },
  {
   "cell_type": "code",
   "execution_count": null,
   "metadata": {},
   "outputs": [],
   "source": [
    "name = \"enter your name\";\n",
    "\n",
    "for i = 1:length(name)\n",
    "    disp(name(i))\n",
    "end"
   ]
  },
  {
   "cell_type": "markdown",
   "metadata": {},
   "source": [
    "When you run code that turns on the heaters, make sure they work by putting your hand over them or observing the thermochromic paint turn pink when they are over 37°C. Go over Lesson 6 Functions TCLab again, if you don't remember them.\n",
    "\n",
    "Make a while loop that blinks on and off the __Hot__ LED light.  If the temperature gets above 28°C, then turn on the light on, and turn off and disconnect the lab after 3 seconds. It is also useful to print the temperature to see if the program works."
   ]
  },
  {
   "cell_type": "code",
   "execution_count": null,
   "metadata": {},
   "outputs": [],
   "source": [
    "lab = tclab;\n",
    "\n",
    "# Set both heater powers on before the while loop\n",
    "\n",
    "# Make a while loop"
   ]
  },
  {
   "cell_type": "markdown",
   "metadata": {},
   "source": [
    "Make a `for` loop that makes the LED percent go all the way from 100 to 0 in steps of 1. Include a 0.1 second pause in between each step with `pause(0.1)`."
   ]
  },
  {
   "cell_type": "code",
   "execution_count": null,
   "metadata": {},
   "outputs": [],
   "source": [
    "lab = tclab;\n",
    "for i =  # Needs to go from 100 to 0\n",
    "    pause(0.1)\n",
    "end"
   ]
  }
 ],
 "metadata": {
  "anaconda-cloud": {},
  "kernelspec": {
   "display_name": "Octave",
   "language": "octave",
   "name": "octave"
  },
  "language_info": {
   "file_extension": ".m",
   "help_links": [
    {
     "text": "GNU Octave",
     "url": "https://www.gnu.org/software/octave/support.html"
    },
    {
     "text": "Octave Kernel",
     "url": "https://github.com/Calysto/octave_kernel"
    },
    {
     "text": "MetaKernel Magics",
     "url": "https://metakernel.readthedocs.io/en/latest/source/README.html"
    }
   ],
   "mimetype": "text/x-octave",
   "name": "octave",
   "version": "5.2.0"
  }
 },
 "nbformat": 4,
 "nbformat_minor": 4
}
