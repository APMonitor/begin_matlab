{
 "cells": [
  {
   "cell_type": "markdown",
   "metadata": {},
   "source": [
    "## 2. Debugging\n",
    "\n",
    "![debug](https://apmonitor.com/che263/uploads/Begin_Matlab/debug.png)\n",
    "\n",
    "One of the biggest time consuming parts of programming is debugging, or resolving mistakes in the program. This is true for every language because the computer needs exact commands, which is very important for precise measurements and control for incubating. A few steps can limit the time you are searching for mistakes, instead of completing the project. \n",
    "\n",
    "[<img src=\"https://apmonitor.com/che263/uploads/Begin_Matlab/BeginMatlab02.png\" alt=\"YouTube Video\" width=\"550\"/>](https://www.youtube.com/watch?v=Gzdetb6poMA&list=PLLBUgWXdTBDhJJnJW2q2G7e84MZM6dxRN \"Course Overview\")\n",
    "\n",
    "### Steps for more effective programming\n",
    "\n",
    "![list](https://apmonitor.com/che263/uploads/Begin_Matlab/list.png)\n",
    "\n",
    "1. Start with understanding the big picture. When you map out the entire program, you can see parts of the code that can be developed and tested separately. Do this in whichever way suits you best, we’ll leave it up to you. For the egg incubator, it would be understanding what you actually need to do to help an egg hatch.\n",
    "\n",
    "2. Start by outlining your code, writing **high-level instructions (pseudo-code)** what you want each section of the code to do. Break it into more specific tasks. You can do this even without understanding the basics of Python. Once you learn Python basics, you can translate these high level instructions into code. Organizing the outline helps to make sure your programming isn't more complex than it needs to be.\n",
    "\n",
    "3. Program the specific tasks and connect them together. Direct tasks make it significantly easier to program because the program is modular. It is a lot harder to program something if the program is large and complex. For the incubator, this may be programming something specific like how hard the heater should work, based on a low temperature reading.\n",
    "\n",
    "4. Test and fix problems. This is basically debugging, but don't only test the whole project all in one go. It is much easier to find a problem if you test every once in a while, when you are programming smaller parts. A good way to do this is grab a specific piece of code, run it on a separate file, and see if it does the job you want. An example would be fixing when the heater should stop working, so the egg doesn't go over temperature.\n",
    "\n",
    "The better you follow these steps the less time you will have to spend fixing problems in your code for your incubator or just Matlab programs in general.\n",
    "\n",
    "### Activity\n",
    "\n",
    "![expert](https://apmonitor.com/che263/uploads/Begin_Matlab/expert.png)\n",
    "\n",
    "Fix the errors in the following code cells. Use the error messages to help you locate the problems."
   ]
  },
  {
   "cell_type": "code",
   "execution_count": null,
   "metadata": {},
   "outputs": [],
   "source": [
    "disp('Program to Hatch an Egg)  % hint: look for a missing ' character"
   ]
  },
  {
   "cell_type": "code",
   "execution_count": null,
   "metadata": {},
   "outputs": [],
   "source": [
    "target temperature = 37  % hint: variable names cannot have spaces"
   ]
  },
  {
   "cell_type": "code",
   "execution_count": null,
   "metadata": {},
   "outputs": [],
   "source": [
    "current_temperature = 30\n",
    "target_temperature = 37\n",
    "difference = target_temperature - current_temperature\n",
    "disp([difference, ' degC'])  % hint: use num2str(difference) to make it a string"
   ]
  },
  {
   "cell_type": "markdown",
   "metadata": {},
   "source": [
    "![expert](https://apmonitor.com/che263/uploads/Begin_Matlab/expert.png)\n",
    "\n",
    "Connect the USB communication cable to the Arduino. Use `clear all` to clear all variables from the current session. The white power cable is not needed for this exercise.\n",
    "\n",
    "![connections_no_power](https://apmonitor.com/che263/uploads/Begin_Matlab/connections_no_power.png)\n",
    "\n",
    "The intent of the code is to calculate the mode of three temperature values. Fix the error in the following code cell. Use the error message to help you locate and fix the problem."
   ]
  },
  {
   "cell_type": "code",
   "execution_count": null,
   "metadata": {},
   "outputs": [],
   "source": [
    "clear all\n",
    "lab = tclab;\n",
    "\n",
    "TC1 = lab.T1;\n",
    "TC2 = lab.T1;\n",
    "\n",
    "# calculate the mode of TC1, TC2, TC3\n",
    "mode([TC1,TC2,TC3])\n",
    "clear lab"
   ]
  }
 ],
 "metadata": {
  "anaconda-cloud": {},
  "kernelspec": {
   "display_name": "Octave",
   "language": "octave",
   "name": "octave"
  },
  "language_info": {
   "file_extension": ".m",
   "help_links": [
    {
     "text": "GNU Octave",
     "url": "https://www.gnu.org/software/octave/support.html"
    },
    {
     "text": "Octave Kernel",
     "url": "https://github.com/Calysto/octave_kernel"
    },
    {
     "text": "MetaKernel Magics",
     "url": "https://metakernel.readthedocs.io/en/latest/source/README.html"
    }
   ],
   "mimetype": "text/x-octave",
   "name": "octave",
   "version": "5.2.0"
  }
 },
 "nbformat": 4,
 "nbformat_minor": 1
}
