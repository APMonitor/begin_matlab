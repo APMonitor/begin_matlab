{
 "cells": [
  {
   "cell_type": "markdown",
   "metadata": {},
   "source": [
    "## 5. Arduino\n",
    "\n",
    "![list](https://apmonitor.com/che263/uploads/Begin_Python/list.png)\n",
    "\n",
    "There are many built-in functions in Matlab to facilitate complex programming steps with few lines of code. Using built-in functions can save many hours of programming but also increases the amount that you must learn to master the language. There are common Matlab functions and also additional functions that are available as toolboxes. Many of the functions are also implemented as classes that are collections of objects and functions. To receive help on any function, type `help` with the function name."
   ]
  },
  {
   "cell_type": "markdown",
   "metadata": {},
   "source": [
    "[<img src=\"https://apmonitor.com/che263/uploads/Begin_Matlab/BeginMatlab05.png\" alt=\"YouTube Video\" width=\"550\"/>](https://www.youtube.com/watch?v=wuWLVbBFPuc&list=PLLBUgWXdTBDi3J05aMVG1knUpqRhkbc46 \"Course Overview\")"
   ]
  },
  {
   "cell_type": "markdown",
   "metadata": {},
   "source": [
    "### One-Time Setup\n",
    "\n",
    "You may need to run `arduinosetup` from the command line before continuing with this section. The Arduino support package must also be installed. For `Matlab` you can access the Arduino support packages and instructions:\n",
    "* [MATLAB Arduino support package](https://www.mathworks.com/hardware-support/arduino-matlab.html)\n",
    "* [Simulink Arduino support package](https://www.mathworks.com/hardware-support/arduino-simulink.html)\n",
    "\n",
    "For GNU Octave you can access instructions and the Arduino package from forge:\n",
    "* [Octave Arduino support package](https://wiki.octave.org/Arduino_package)."
   ]
  },
  {
   "cell_type": "code",
   "execution_count": 16,
   "metadata": {},
   "outputs": [],
   "source": [
    "%arduinosetup     % run from Octave command line"
   ]
  },
  {
   "cell_type": "markdown",
   "metadata": {},
   "source": [
    "### Try and Catch\n",
    "\n",
    "![idea](https://apmonitor.com/che263/uploads/Begin_Python/idea.png)\n",
    "\n",
    "`Try` and `Catch` methods can catch program errors. The program attempts to run the code under ```try```, and if it can't it runs the ```catch``` section of the code. This is useful in a number of situations, such as importing packages you may not have installed and printing a message that something is wrong."
   ]
  },
  {
   "cell_type": "code",
   "execution_count": 27,
   "metadata": {},
   "outputs": [
    {
     "name": "stdout",
     "output_type": "stream",
     "text": [
      "Loaded Arduino support package\n"
     ]
    }
   ],
   "source": [
    "try\n",
    "    pkg load arduino\n",
    "    disp('Loaded Arduino support package')\n",
    "catch\n",
    "    disp('Need to install Octave Arduino support package')\n",
    "end"
   ]
  },
  {
   "cell_type": "markdown",
   "metadata": {},
   "source": [
    "### Objects\n",
    "\n",
    "![parent_child](https://apmonitor.com/che263/uploads/Begin_Python/parent_child.png)\n",
    "\n",
    "Variables may be `double` or `char` types or any type of object. Objects may also be created from a class (template) to create a new custom object. You use an assignment operator (```=```) to create an object and assign it to a name, such as ```alab = arduino```. This is called a parent (`arduino`) to child (`alab`) relationship because `alab` is created from the class object `arduino`. The child object `alab` inherents all the functions of the parent. The child object is modified and customized in your code. You can give objects a name that you will remember and that are easy to type."
   ]
  },
  {
   "cell_type": "markdown",
   "metadata": {},
   "source": [
    "```matlab\n",
    "alab = arduino\n",
    "```\n",
    "\n",
    "The first part of the expression is the child object name. For the Temperature Control Lab, we often use ```lab``` as the name of our object. In this case, we'll use the name ```alab``` as you first connect to the Arduino and access the raw signals.\n",
    "\n",
    "![schematic](http://apmonitor.com/pdc/uploads/Main/tclab_schematic.png)\n",
    "\n",
    "The raw signals and commands are accessed from the following Arduino pins:\n",
    "\n",
    "* ***A0***: Analog input 0 voltage to calculate temperature 1\n",
    "* ***A2***: Analog input 2 voltage to calculate temperature 2\n",
    "* ***D3***: Digital output 3 to adjust heater 1\n",
    "* ***D5***: Digital output 5 to adjust heater 2\n",
    "* ***D9***: Digital output 9 to adjust LED"
   ]
  },
  {
   "cell_type": "code",
   "execution_count": 22,
   "metadata": {
    "scrolled": true
   },
   "outputs": [
    {
     "name": "stdout",
     "output_type": "stream",
     "text": [
      "alab = \n",
      "  arduino object with fields of: \n",
      "    port = \\\\.\\COM5\n",
      "    board = leonardo\n",
      "    libraries = {\n",
      "      i2c\n",
      "      spi\n",
      "      servo\n",
      "      shiftregister\n",
      "    }\n",
      "    availablepins = {\n",
      "      d0 - d17\n",
      "      a0 - a5\n",
      "      d30\n",
      "    }\n"
     ]
    }
   ],
   "source": [
    "%pkg load arduino  # only for Octave\n",
    "alab = arduino"
   ]
  },
  {
   "cell_type": "code",
   "execution_count": 18,
   "metadata": {},
   "outputs": [
    {
     "name": "stdout",
     "output_type": "stream",
     "text": [
      "v1 =  0.69892\n",
      "Voltage 1 (changes with temperature): 0.69892\n"
     ]
    }
   ],
   "source": [
    "v1 = readVoltage(alab,'A0')\n",
    "disp(['Voltage 1 (changes with temperature): ', num2str(v1)])"
   ]
  },
  {
   "cell_type": "code",
   "execution_count": 19,
   "metadata": {},
   "outputs": [
    {
     "name": "stdout",
     "output_type": "stream",
     "text": [
      "Temperature 1: 19.8925 degC\n"
     ]
    }
   ],
   "source": [
    "T1 = (v1 - 0.5)*100.0;\n",
    "disp(['Temperature 1: ', num2str(T1), ' degC'])"
   ]
  },
  {
   "cell_type": "code",
   "execution_count": 20,
   "metadata": {},
   "outputs": [],
   "source": [
    "writePWMDutyCycle(alab,'D9',0.5);"
   ]
  },
  {
   "cell_type": "code",
   "execution_count": 24,
   "metadata": {},
   "outputs": [],
   "source": [
    "clear alab  # close connection"
   ]
  },
  {
   "cell_type": "code",
   "execution_count": null,
   "metadata": {},
   "outputs": [],
   "source": [
    "## Add Simulink video here"
   ]
  },
  {
   "cell_type": "markdown",
   "metadata": {},
   "source": [
    "#### Install Temperature Control Lab\n",
    "\n",
    "This code will first ```try``` and import tclab. If it can't do that for some reason it uses ```except``` and installs the program that will let you use your Temperature Control Kit. Run the program to install TCLab. If installing TCLab is not working for you and the connection test below isn't working, try going [here](https://apmonitor.com/pdc/index.php/Main/ArduinoSetup) for additional instructions. If you want to install this package just for your user, not with admin privileges, keep the code ```--user``` in lines 6 and 8."
   ]
  },
  {
   "cell_type": "code",
   "execution_count": null,
   "metadata": {},
   "outputs": [],
   "source": [
    "pkg load arduino\n",
    "lab = arduino"
   ]
  },
  {
   "cell_type": "code",
   "execution_count": 12,
   "metadata": {},
   "outputs": [],
   "source": [
    "clear lab"
   ]
  },
  {
   "cell_type": "markdown",
   "metadata": {},
   "source": [
    "#### Connection Test\n",
    "\n",
    "```python\n",
    "lab = tclab\n",
    "```\n",
    "\n",
    "The first part of the expression is the child object name. For the Temperature Control Lab, we often use ```lab``` to as the name of our object. For something like your incubator, you could make an object to connect with it, called something like ```incubator```. \n",
    "\n",
    "The second part after ```=```, opens the object called ```tclab```.\n",
    "\n",
    "The ```.``` makes the program look for a sub-object, and the ```()``` tells python it is a function. This a function with no input arguments, because no value is put in the parentheses. Functions will be taught next lesson. \n",
    "\n",
    "So ```lab``` or whatever you decide to call it, is assigned to the programming already made found in the class:\n",
    "\n",
    "```matlab\n",
    "tclab\n",
    "```\n",
    "\n",
    "This object is what allows you to connect with the kit, read current temperatures, adjust heaters, or change the LED brightness. In the next lesson we will go over the basics of what this temperature control kit can really do. \n",
    "\n",
    "Plug in your TCLab if it's available. Now try running and the program will create the object from below. Now if tclab package is installed and imported, it should connect, tell you additional information about your TCLab, then disconnect. If it doesn't work, or comes up with an error, go to the file __TCLab Help__.\n",
    "\n",
    "Don't worry if this is confusing, most of it will be explained in the next lesson."
   ]
  },
  {
   "cell_type": "code",
   "execution_count": null,
   "metadata": {},
   "outputs": [],
   "source": [
    "lab = tclab; # Connect to the TCLab"
   ]
  },
  {
   "cell_type": "code",
   "execution_count": null,
   "metadata": {},
   "outputs": [],
   "source": [
    "lab.LED(10);"
   ]
  },
  {
   "cell_type": "code",
   "execution_count": 11,
   "metadata": {},
   "outputs": [
    {
     "name": "stdout",
     "output_type": "stream",
     "text": [
      "error: 'lab' undefined near line 1 column 1\n"
     ]
    }
   ],
   "source": [
    "lab.off;  # Turn heaters and LED off (optional)\n",
    "clear lab # Close connection"
   ]
  },
  {
   "cell_type": "markdown",
   "metadata": {},
   "source": [
    "### Activity\n",
    "\n",
    "![expert](https://apmonitor.com/che263/uploads/Begin_Python/expert.png)\n",
    "\n",
    "Connect the blue USB cable and plug in the white power cable to the power adapter. Run the TCLab exercise below that imports and tests the `TCLab` functions. Modify the name of the object from `lab` to `incubator` and add comments to the code. All these functions are covered in depth in lesson `6: Functions`. Don't worry if you don't understand each step of the program yet. Your task is to only change the name of the child object from `lab` to `incubator` and add comments such as `# this is a comment` to the code on the purpose of each section.\n",
    "\n",
    "![connections](https://apmonitor.com/che263/uploads/Begin_Python/connections.png)\n",
    "\n",
    "**TCLab Function Help**\n",
    "\n",
    "***Connect:*** ```lab = tclab()``` Connect and create new lab object.\n",
    "\n",
    "***LED:*** ```lab.LED()``` Percentage of output light for __Hot__ Light.\n",
    "\n",
    "***Heaters:*** ```lab.Q1()``` and ```lab.Q2()``` Percentage of power to heaters (0-100).\n",
    "\n",
    "***Temperatures:*** ```lab.T1``` and ```lab.T2``` Value of current heater temperatures.\n",
    "\n",
    "***Disconnect:*** ```lab.off()``` turns off LED and heaters, ```clear lab``` disconnects lab."
   ]
  },
  {
   "cell_type": "code",
   "execution_count": 14,
   "metadata": {},
   "outputs": [
    {
     "name": "stdout",
     "output_type": "stream",
     "text": [
      "Turn on heaters and LED for 20 seconds\n",
      "Time:1 T1:23.998 T2:22.9228\n",
      "Time:2 T1:23.998 T2:22.434\n",
      "Time:3 T1:24.2424 T2:22.5806\n",
      "Time:4 T1:24.3402 T2:22.7761\n",
      "Time:5 T1:24.5357 T2:22.7761\n",
      "Time:6 T1:24.6823 T2:22.9717\n",
      "Time:7 T1:24.7312 T2:23.0205\n",
      "Time:8 T1:24.4868 T2:23.0694\n",
      "Time:9 T1:24.6334 T2:23.0694\n",
      "Time:10 T1:25.0244 T2:22.9717\n",
      "Time:11 T1:24.9267 T2:23.3138\n",
      "Time:12 T1:25.2688 T2:23.7537\n",
      "Time:13 T1:25.2199 T2:23.3138\n",
      "Time:14 T1:25.5132 T2:23.7048\n",
      "Time:15 T1:25.5621 T2:23.9003\n",
      "Time:16 T1:25.8065 T2:23.4115\n",
      "Time:17 T1:25.6109 T2:23.3627\n",
      "Time:18 T1:25.8065 T2:23.8514\n",
      "Time:19 T1:25.9531 T2:23.607\n",
      "Time:20 T1:26.1486 T2:23.9492\n"
     ]
    }
   ],
   "source": [
    "lab = tclab;\n",
    "disp('Turn on heaters and LED for 20 seconds')\n",
    "lab.Q1(50); lab.Q2(50);\n",
    "for i = 1:20\n",
    "    lab.LED(5*(20-i)); # dim LED by 5% from 100% to 0%\n",
    "    disp(['Time:',num2str(i),...\n",
    "          ' T1:',num2str(lab.T1),...\n",
    "          ' T2:',num2str(lab.T2)])\n",
    "    pause(1)\n",
    "end    \n",
    "lab.off;\n",
    "clear lab"
   ]
  }
 ],
 "metadata": {
  "anaconda-cloud": {},
  "kernelspec": {
   "display_name": "Octave",
   "language": "octave",
   "name": "octave"
  },
  "language_info": {
   "file_extension": ".m",
   "help_links": [
    {
     "text": "GNU Octave",
     "url": "https://www.gnu.org/software/octave/support.html"
    },
    {
     "text": "Octave Kernel",
     "url": "https://github.com/Calysto/octave_kernel"
    },
    {
     "text": "MetaKernel Magics",
     "url": "https://metakernel.readthedocs.io/en/latest/source/README.html"
    }
   ],
   "mimetype": "text/x-octave",
   "name": "octave",
   "version": "5.2.0"
  }
 },
 "nbformat": 4,
 "nbformat_minor": 1
}
