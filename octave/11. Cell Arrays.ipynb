{
 "cells": [
  {
   "cell_type": "markdown",
   "metadata": {},
   "source": [
    "## 11. Cell Arrays\n",
    "\n",
    "![list](https://apmonitor.com/che263/uploads/Begin_Python/list.png)\n",
    "\n",
    "Cell arrays are like regular arrays but you can use them to store different data types in a sequence.\n",
    "\n",
    "[<img src=\"https://apmonitor.com/che263/uploads/Begin_Matlab/BeginMatlab11.png\" alt=\"YouTube Video\" width=\"550\"/>](https://www.youtube.com/watch?v=wuWLVbBFPuc&list=PLLBUgWXdTBDi3J05aMVG1knUpqRhkbc46 \"Cell Arrays\")\n",
    "\n",
    "The format for this method of storing values is curly brackets ```{}```. After you assign the cell array a name, you can enter values and separate them with commas."
   ]
  },
  {
   "cell_type": "code",
   "execution_count": 1,
   "metadata": {
    "scrolled": true
   },
   "outputs": [
    {
     "name": "stdout",
     "output_type": "stream",
     "text": [
      "chickens =\n",
      "{\n",
      "  [1,1] = Leghorn\n",
      "  [1,2] = Barnevelder\n",
      "  [1,3] = Plymouth Rock\n",
      "}\n",
      "\n"
     ]
    }
   ],
   "source": [
    "# cell array of strings\n",
    "chickens = {\"Leghorn\", 'Barnevelder', 'Plymouth Rock'}"
   ]
  },
  {
   "cell_type": "markdown",
   "metadata": {},
   "source": [
    "You can also have an array in a cell array."
   ]
  },
  {
   "cell_type": "code",
   "execution_count": 3,
   "metadata": {},
   "outputs": [
    {
     "name": "stdout",
     "output_type": "stream",
     "text": [
      "chickens =\n",
      "{\n",
      "  [1,1] = Leghorn\n",
      "  [1,2] =\n",
      "\n",
      "      1   42\n",
      "\n",
      "  [1,3] = Barnevelder\n",
      "  [1,4] = Plymouth Rock\n",
      "}\n",
      "\n"
     ]
    }
   ],
   "source": [
    "chickens = {'Leghorn', [true, 42],'Barnevelder', \"Plymouth Rock\"}"
   ]
  },
  {
   "cell_type": "markdown",
   "metadata": {},
   "source": [
    "You can replace elements of the array or delete a specific value."
   ]
  },
  {
   "cell_type": "code",
   "execution_count": 4,
   "metadata": {},
   "outputs": [
    {
     "name": "stdout",
     "output_type": "stream",
     "text": [
      "chickens =\n",
      "{\n",
      "  [1,1] = Leghorn\n",
      "  [1,2] = Barnevelder\n",
      "  [1,3] = Plymouth Rock\n",
      "}\n",
      "\n",
      "chickens =\n",
      "{\n",
      "  [1,1] = Ancona\n",
      "  [1,2] = Barnevelder\n",
      "  [1,3] = Plymouth Rock\n",
      "}\n",
      "\n",
      "chickens =\n",
      "{\n",
      "  [1,1] = Ancona\n",
      "  [1,2] = Plymouth Rock\n",
      "}\n",
      "\n"
     ]
    }
   ],
   "source": [
    "chickens = {'Leghorn', \"Barnevelder\", 'Plymouth Rock'}\n",
    "chickens(1) = 'Ancona'                                 % Replaces Leghorn with Ancona\n",
    "chickens(2) = []                                       % Deletes the second value"
   ]
  },
  {
   "cell_type": "markdown",
   "metadata": {},
   "source": [
    "You can also insert a value like `\"maybe\"` into a cell array."
   ]
  },
  {
   "cell_type": "code",
   "execution_count": 7,
   "metadata": {},
   "outputs": [
    {
     "name": "stdout",
     "output_type": "stream",
     "text": [
      "myArray =\n",
      "{\n",
      "  [1,1] = yes\n",
      "  [1,2] = no\n",
      "}\n",
      "\n",
      "myArray =\n",
      "{\n",
      "  [1,1] = yes\n",
      "  [1,2] = no\n",
      "  [1,3] = maybe\n",
      "}\n",
      "\n"
     ]
    }
   ],
   "source": [
    "myArray = {\"yes\", \"no\"}\n",
    "myArray(3) = {\"maybe\"}"
   ]
  },
  {
   "cell_type": "markdown",
   "metadata": {},
   "source": [
    "Use the `cell2mat()` function to convert the cell array to a matrix. An array is a 1D matrix."
   ]
  },
  {
   "cell_type": "code",
   "execution_count": 5,
   "metadata": {
    "scrolled": false
   },
   "outputs": [
    {
     "name": "stdout",
     "output_type": "stream",
     "text": [
      "Leghorn\n",
      "Barnevelder\n",
      "Plymouth Rock\n"
     ]
    }
   ],
   "source": [
    "chickens = {\"Leghorn\", 'Barnevelder', 'Plymouth Rock'};\n",
    "for i = 1:length(chickens)\n",
    "    disp(cell2mat(chickens(i)))\n",
    "end"
   ]
  },
  {
   "cell_type": "markdown",
   "metadata": {},
   "source": [
    "Like arrays, you can access the elements of an array inside a `for` loop. The `if` statement inside controls what message is printed. The `strcmp()` function is comparing two string values. If they are the same it will be ```true```."
   ]
  },
  {
   "cell_type": "code",
   "execution_count": 6,
   "metadata": {},
   "outputs": [
    {
     "name": "stdout",
     "output_type": "stream",
     "text": [
      "chicken = Leghorn\n",
      "Replace with Ancona\n",
      "chicken = Barnevelder\n",
      "chicken = Plymouth Rock\n"
     ]
    }
   ],
   "source": [
    "chickens = {\"Leghorn\", 'Barnevelder', 'Plymouth Rock'};\n",
    "\n",
    "for i = 1:length(chickens)\n",
    "    chicken = cell2mat(chickens(i))\n",
    "    if strcmp(chicken,'Leghorn')\n",
    "        disp(\"Replace with Ancona\")\n",
    "    end\n",
    "end"
   ]
  },
  {
   "cell_type": "markdown",
   "metadata": {},
   "source": [
    "### Activity\n",
    "\n",
    "![expert](https://apmonitor.com/che263/uploads/Begin_Python/expert.png)\n",
    "\n",
    "Create a cell array of animals that lay eggs (at least three). \n",
    "\n",
    "![animal eggs](https://apmonitor.com/che263/uploads/Begin_Python/animal_eggs.png)\n",
    "\n",
    "Make a while loop with an input to ask for the color of the animal and store it in a cell array. The `while` loop should stop if equal to ```\"none\"```. Make sure the loop displays the animal and the corresponding color."
   ]
  },
  {
   "cell_type": "code",
   "execution_count": null,
   "metadata": {},
   "outputs": [],
   "source": [
    "animals = {}"
   ]
  }
 ],
 "metadata": {
  "anaconda-cloud": {},
  "kernelspec": {
   "display_name": "Octave",
   "language": "octave",
   "name": "octave"
  },
  "language_info": {
   "file_extension": ".m",
   "help_links": [
    {
     "text": "GNU Octave",
     "url": "https://www.gnu.org/software/octave/support.html"
    },
    {
     "text": "Octave Kernel",
     "url": "https://github.com/Calysto/octave_kernel"
    },
    {
     "text": "MetaKernel Magics",
     "url": "https://metakernel.readthedocs.io/en/latest/source/README.html"
    }
   ],
   "mimetype": "text/x-octave",
   "name": "octave",
   "version": "5.2.0"
  }
 },
 "nbformat": 4,
 "nbformat_minor": 1
}
