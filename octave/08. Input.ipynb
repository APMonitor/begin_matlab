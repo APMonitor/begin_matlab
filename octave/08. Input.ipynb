{
 "cells": [
  {
   "cell_type": "markdown",
   "metadata": {},
   "source": [
    "## 8. Input\n",
    "\n",
    "![list](https://apmonitor.com/che263/uploads/Begin_Python/list.png)\n",
    "\n",
    "Input requests information from the person using the computer and pauses the program until a value is entered. In an egg temperature controller, certain types of eggs may require a different input and you could put that in your code to change the desired temperature. You could also use `input` to manually change power to the heaters.\n",
    "\n",
    "[<img src=\"https://apmonitor.com/che263/uploads/Begin_Matlab/BeginMatlab08.png\" alt=\"YouTube Video\" width=\"550\"/>](https://www.youtube.com/watch?v=wuWLVbBFPuc&list=PLLBUgWXdTBDi3J05aMVG1knUpqRhkbc46 \"Course Overview\")\n",
    "\n",
    "If you run the code below, it asks you for a number. If they enter a number with a decimal or as a string, you need to turn ```eggs``` __double__ into an __integer__ with the function `round()` or `int32()`. Use these functions to change types.\n",
    "\n",
    "![incubator](https://apmonitor.com/che263/uploads/Begin_Python/incubator.png)"
   ]
  },
  {
   "cell_type": "code",
   "execution_count": 7,
   "metadata": {},
   "outputs": [
    {
     "name": "stdout",
     "output_type": "stream",
     "text": [
      "How many eggs do you have?3.2\n",
      "eggs =  3.2000\n",
      "eggs =  1.2000\n",
      "Your hatchlings are 1.2 because two are still developing\n"
     ]
    }
   ],
   "source": [
    "eggs = input(\"How many eggs do you have? \")\n",
    "# make eggs into an integer\n",
    "# change eggs-2 back into a string\n",
    "disp([\"Your hatchlings are \", eggs-2, ' because two are still developing']) "
   ]
  },
  {
   "cell_type": "markdown",
   "metadata": {},
   "source": [
    "You can also make the input change into an __integer__ on the same line as the input."
   ]
  },
  {
   "cell_type": "code",
   "execution_count": 11,
   "metadata": {
    "scrolled": true
   },
   "outputs": [
    {
     "name": "stdout",
     "output_type": "stream",
     "text": [
      "Enter a number:3.2\n",
      "number =  3\n",
      " 8\n"
     ]
    }
   ],
   "source": [
    "number = round(input('Enter a number: '))\n",
    "disp(number + 5)"
   ]
  },
  {
   "cell_type": "markdown",
   "metadata": {},
   "source": [
    "### Activity\n",
    "\n",
    "![expert](https://apmonitor.com/che263/uploads/Begin_Python/expert.png)\n",
    "\n",
    "Make a function that uses `input` for two values. The function should take two values, add the second number to the first number 20 times, then return the new value. Make sure to use a ```for``` loop in your function. Go back to the lesson on **Loops** or **Functions** if you get stuck."
   ]
  },
  {
   "cell_type": "code",
   "execution_count": 9,
   "metadata": {},
   "outputs": [
    {
     "name": "stdout",
     "output_type": "stream",
     "text": [
      "\n"
     ]
    }
   ],
   "source": [
    "# Define a function\n",
    "\n",
    "# Use a for loop\n",
    "\n",
    "disp('') # Call the function"
   ]
  },
  {
   "cell_type": "markdown",
   "metadata": {},
   "source": [
    "Use a ```while``` loop to keep asking the user for input for the __Hot__ light power percentage. Make the code so if the entered value is 0, the program stops. This could be something used in a real incubator, where you could keep turning it to different temperatures, or turn off the system completely."
   ]
  },
  {
   "cell_type": "code",
   "execution_count": null,
   "metadata": {},
   "outputs": [],
   "source": [
    "lab = tclab;\n"
   ]
  }
 ],
 "metadata": {
  "anaconda-cloud": {},
  "kernelspec": {
   "display_name": "Octave",
   "language": "octave",
   "name": "octave"
  },
  "language_info": {
   "file_extension": ".m",
   "help_links": [
    {
     "text": "GNU Octave",
     "url": "https://www.gnu.org/software/octave/support.html"
    },
    {
     "text": "Octave Kernel",
     "url": "https://github.com/Calysto/octave_kernel"
    },
    {
     "text": "MetaKernel Magics",
     "url": "https://metakernel.readthedocs.io/en/latest/source/README.html"
    }
   ],
   "mimetype": "text/x-octave",
   "name": "octave",
   "version": "5.2.0"
  }
 },
 "nbformat": 4,
 "nbformat_minor": 1
}
