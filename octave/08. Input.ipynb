{
 "cells": [
  {
   "cell_type": "markdown",
   "metadata": {},
   "source": [
    "## 8. Input\n",
    "\n",
    "![list](https://apmonitor.com/che263/uploads/Begin_Python/list.png)\n",
    "\n",
    "Input requests information from the person using the computer and pauses the program until a value is entered. Input can also be data from a file. This module shows how to access input data from either a user or a file.\n",
    "\n",
    "For the final project egg incubator controller, certain types of eggs may require a different input and you could put that in your code to change the desired temperature. You could also use `input` to manually change power to the heaters.\n",
    "\n",
    "[<img src=\"https://apmonitor.com/che263/uploads/Begin_Matlab/BeginMatlab08.png\" alt=\"YouTube Video\" width=\"550\"/>](https://www.youtube.com/watch?v=wuWLVbBFPuc&list=PLLBUgWXdTBDi3J05aMVG1knUpqRhkbc46 \"Course Overview\")\n",
    "\n",
    "If you run the code below, it asks you for a number. If they enter a number with a decimal or as a string, you need to turn ```eggs``` __double__ into an __integer__ with the function `round()` or `int32()`. Use these functions to change types.\n",
    "\n",
    "![incubator](https://apmonitor.com/che263/uploads/Begin_Python/incubator.png)"
   ]
  },
  {
   "cell_type": "code",
   "execution_count": null,
   "metadata": {},
   "outputs": [],
   "source": [
    "eggs = input(\"How many eggs do you have? \")\n",
    "# make eggs into an integer\n",
    "# change eggs-2 back into a string\n",
    "disp([\"Your hatchlings are \", eggs-2, ' because two are still developing']) "
   ]
  },
  {
   "cell_type": "markdown",
   "metadata": {},
   "source": [
    "You can also make the input change into an __integer__ on the same line as the input."
   ]
  },
  {
   "cell_type": "code",
   "execution_count": null,
   "metadata": {
    "scrolled": true
   },
   "outputs": [],
   "source": [
    "number = round(input('Enter a number: '))\n",
    "disp(number + 5)"
   ]
  },
  {
   "cell_type": "markdown",
   "metadata": {},
   "source": [
    "### Save Data File"
   ]
  },
  {
   "cell_type": "markdown",
   "metadata": {},
   "source": [
    "You can save data to a file with `save -ascii filename data` as shown below to save the input `number` to a file `number.txt`. The `-ascii` flag tells the computer to save the file in a human-readable form as a text file instead of a binary file. A binary file takes up less storage space and is faster to write and read by the computer but it is harder to inspect the file contents by another program."
   ]
  },
  {
   "cell_type": "code",
   "execution_count": 4,
   "metadata": {},
   "outputs": [],
   "source": [
    "myNumber = 8;\n",
    "save -ascii -append number.txt myNumber"
   ]
  },
  {
   "cell_type": "markdown",
   "metadata": {},
   "source": [
    "Use the flag `-append` to add to the end of the file instead of replacing the contents."
   ]
  },
  {
   "cell_type": "markdown",
   "metadata": {},
   "source": [
    "### Load Data File"
   ]
  },
  {
   "cell_type": "markdown",
   "metadata": {},
   "source": [
    "Data files on your computer such as a Comma Separated Value (CSV) file or a regular text file can also be an input to your program. There is more information on [importing and analyzing data files](http://apmonitor.com/che263/index.php/Main/MatlabDataAnalysis). To load a file, use the `load` command followed by the file name."
   ]
  },
  {
   "cell_type": "code",
   "execution_count": null,
   "metadata": {},
   "outputs": [],
   "source": [
    "load number.txt"
   ]
  },
  {
   "cell_type": "markdown",
   "metadata": {},
   "source": [
    "This loads the contents of number.txt back into Matlab as a variable name that does not include the file extension (`.txt`). In this case, the variable `number` is updated."
   ]
  },
  {
   "cell_type": "markdown",
   "metadata": {},
   "source": [
    "### Activity\n",
    "\n",
    "![expert](https://apmonitor.com/che263/uploads/Begin_Python/expert.png)\n",
    "\n",
    "Make a function that uses `input` for two values. The function should take two values, add the second number to the first number 20 times, then return the new value. Make sure to use a ```for``` loop in your function. Go back to the lesson on **Loops** or **Functions** if you get stuck."
   ]
  },
  {
   "cell_type": "code",
   "execution_count": null,
   "metadata": {},
   "outputs": [],
   "source": [
    "# Define a function\n",
    "\n",
    "# Use a for loop\n",
    "\n",
    "disp('') # Call the function"
   ]
  },
  {
   "cell_type": "markdown",
   "metadata": {},
   "source": [
    "![arduino](https://apmonitor.com/che263/uploads/Begin_Matlab/connections_no_power.png)\n",
    "\n",
    "Use a ```while``` loop to keep asking the user for input for the __LED__ light power percentage. Make the code so if the entered value is 0, the program stops. Save the sequence of values to a text file."
   ]
  },
  {
   "cell_type": "code",
   "execution_count": null,
   "metadata": {},
   "outputs": [],
   "source": []
  },
  {
   "cell_type": "markdown",
   "metadata": {},
   "source": [
    "This could be something used in the final project when you design an incubator. You can set the target temperature to different values or turn off the system completely."
   ]
  }
 ],
 "metadata": {
  "anaconda-cloud": {},
  "kernelspec": {
   "display_name": "Octave",
   "language": "octave",
   "name": "octave"
  },
  "language_info": {
   "file_extension": ".m",
   "help_links": [
    {
     "text": "GNU Octave",
     "url": "https://www.gnu.org/software/octave/support.html"
    },
    {
     "text": "Octave Kernel",
     "url": "https://github.com/Calysto/octave_kernel"
    },
    {
     "text": "MetaKernel Magics",
     "url": "https://metakernel.readthedocs.io/en/latest/source/README.html"
    }
   ],
   "mimetype": "text/x-octave",
   "name": "octave",
   "version": "5.2.0"
  }
 },
 "nbformat": 4,
 "nbformat_minor": 4
}
