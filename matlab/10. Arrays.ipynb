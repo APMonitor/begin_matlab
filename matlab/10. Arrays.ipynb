{
 "cells": [
  {
   "cell_type": "markdown",
   "metadata": {},
   "source": [
    "## 10. Arrays\n",
    "\n",
    "![list](https://apmonitor.com/che263/uploads/Begin_Matlab/list.png)\n",
    "\n",
    "Arrays are a way of storing a sequence of numbers or letters.\n",
    "\n",
    "[<img src=\"https://apmonitor.com/che263/uploads/Begin_Matlab/BeginMatlab10.png\" alt=\"YouTube Video\" width=\"550\"/>](https://www.youtube.com/watch?v=aBhyAar5hcQ&list=PLLBUgWXdTBDhJJnJW2q2G7e84MZM6dxRN \"Course Overview\")\n",
    "\n",
    "This is shown below, by using brackets \\[ \\]. You could use an array for an incubator to keep information on such as a history of the temperatures.\n",
    "\n",
    "![chickens](https://apmonitor.com/che263/uploads/Begin_Matlab/chickens.png)"
   ]
  },
  {
   "cell_type": "code",
   "execution_count": null,
   "metadata": {},
   "outputs": [],
   "source": [
    "# array of numbers\n",
    "history = [37.1, 37.2, 37.0, 36.9, 37.1]"
   ]
  },
  {
   "cell_type": "markdown",
   "metadata": {},
   "source": [
    "You can change one of the values in an array, use just one value with `history(2)`, or a range of values with `history(2:4)`. A list index starts at `1`."
   ]
  },
  {
   "cell_type": "code",
   "execution_count": null,
   "metadata": {},
   "outputs": [],
   "source": [
    "history(2)"
   ]
  },
  {
   "cell_type": "code",
   "execution_count": null,
   "metadata": {},
   "outputs": [],
   "source": [
    "history(2:4)"
   ]
  },
  {
   "cell_type": "markdown",
   "metadata": {},
   "source": [
    "You can also use an array inside a ```for``` loop. Use parenthesis with the number or range to access values of the array."
   ]
  },
  {
   "cell_type": "code",
   "execution_count": null,
   "metadata": {},
   "outputs": [],
   "source": [
    "history = [37.1,37.2,37.3];\n",
    "for i = 1:length(history)\n",
    "    disp(history(i))\n",
    "end"
   ]
  },
  {
   "cell_type": "markdown",
   "metadata": {},
   "source": [
    "You can even do a `for` loop to access the values of an array with `if` statements inside. The `==` symbol is comparing two values. If they are the same it will be ```true```."
   ]
  },
  {
   "cell_type": "code",
   "execution_count": null,
   "metadata": {},
   "outputs": [],
   "source": [
    "history = [37.1,37.2,37.3];\n",
    "for i = 1:length(history)\n",
    "    history(i)\n",
    "    if history(i)==37.2\n",
    "        disp('middle temperature')\n",
    "    end\n",
    "end"
   ]
  },
  {
   "cell_type": "markdown",
   "metadata": {},
   "source": [
    "**Insert Values**\n",
    "\n",
    "It is possible to remove or insert values into an array. The `end` is the last element of an array. The array size expands as you add elements to the end such as history(end+1) = 37.6."
   ]
  },
  {
   "cell_type": "code",
   "execution_count": null,
   "metadata": {},
   "outputs": [],
   "source": [
    "h = [1,2,3]\n",
    "h(end+1) = 4"
   ]
  },
  {
   "cell_type": "markdown",
   "metadata": {},
   "source": [
    "You can also remove an element(s) by defining a new array without that element such as `[h(1),h(3:end)]` to remove the second element."
   ]
  },
  {
   "cell_type": "code",
   "execution_count": null,
   "metadata": {},
   "outputs": [],
   "source": [
    "h = [h(1),h(3:end)]"
   ]
  },
  {
   "cell_type": "markdown",
   "metadata": {},
   "source": [
    "You can also insert values into the middle of an array."
   ]
  },
  {
   "cell_type": "code",
   "execution_count": null,
   "metadata": {},
   "outputs": [],
   "source": [
    "h = [h(1:2),2,h(3:end)]"
   ]
  },
  {
   "cell_type": "markdown",
   "metadata": {},
   "source": [
    "**Assigning New Values**\n",
    "\n",
    "After you get all of your data points in a list, one way to execute the same equation to all values in a list is shown below. This can be very useful, for example if you wanted to turn your data points from Celsius to Fahrenheit. The example below shows a way to convert a whole list of values from Celsius to Fahrenheit."
   ]
  },
  {
   "cell_type": "code",
   "execution_count": null,
   "metadata": {},
   "outputs": [],
   "source": [
    "data_celsius = [24, 21, 26, 30, 20] # List of Celsius temperature values\n",
    "\n",
    "data_fahrenheit = data_celsius*(9/5) + 32  # This converts to Fahrenheit"
   ]
  },
  {
   "cell_type": "markdown",
   "metadata": {},
   "source": [
    "### Activity\n",
    "\n",
    "![expert](https://apmonitor.com/che263/uploads/Begin_Matlab/expert.png)\n",
    "\n",
    "Use user input to add temperature values to an array. One temperature value is collected each second for 20 seconds. If you see an error `You already have an open connection` then `clear all` or unplug and reconnect the Arduino."
   ]
  },
  {
   "cell_type": "code",
   "execution_count": null,
   "metadata": {},
   "outputs": [],
   "source": [
    "clear all\n",
    "lab = tclab;\n",
    "\n",
    "# initialize lists\n",
    "tm = []\n",
    "T1 = []\n",
    "\n",
    "# turn on heater 1\n",
    "lab.Q1(60)\n",
    "\n",
    "for i = 1:20\n",
    "    tm(end+1) = i;\n",
    "    disp([i,': ', lab.T1])\n",
    "    # store the new temperature in the array T1\n",
    "\n",
    "    pause(3)\n",
    "end\n",
    "\n",
    "disp(T1)\n",
    "lab.off(); clear lab"
   ]
  },
  {
   "cell_type": "markdown",
   "metadata": {},
   "source": [
    "Make a ```for``` loop that uses at least **5 values**, stored in an array, of your choice to turn on the __LED light__ and __both heaters__. It should end with **0** to make sure the light **and** heaters are off. \n",
    "\n",
    "Make sure there is a **3 second** break in between each light and heater change, and print out the temperatures from the heaters every time the program loops."
   ]
  },
  {
   "cell_type": "code",
   "execution_count": null,
   "metadata": {},
   "outputs": [],
   "source": [
    "myArray = [\"5 different numbers\", 0] % Put 5 numbers in this list between 0 and 100.\n",
    "                                     % The last one should be zero."
   ]
  }
 ],
 "metadata": {
  "kernelspec": {
   "display_name": "Matlab",
   "language": "matlab",
   "name": "matlab"
  },
  "language_info": {
   "codemirror_mode": "octave",
   "file_extension": ".m",
   "help_links": [
    {
     "text": "MetaKernel Magics",
     "url": "https://metakernel.readthedocs.io/en/latest/source/README.html"
    }
   ],
   "mimetype": "text/x-octave",
   "name": "matlab",
   "version": "0.16.9"
  }
 },
 "nbformat": 4,
 "nbformat_minor": 2
}
