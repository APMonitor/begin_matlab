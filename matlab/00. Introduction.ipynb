{
 "cells": [
  {
   "cell_type": "markdown",
   "metadata": {},
   "source": [
    "# Introduction to Matlab\n",
    "\n",
    "Welcome to this introductory course on Matlab! This course is intended to help you start programming in Matlab from little or no prior experience. There are video tutorials for each exercise if you have questions along the way.\n",
    "\n",
    "<center>[Begin MATLAB Playlist on YouTube](https://www.youtube.com/watch?v=V8ik7X6I1Sk&list=PLLBUgWXdTBDhJJnJW2q2G7e84MZM6dxRN)</center>",
    "\n",
    "[<img src=\"https://apmonitor.com/che263/uploads/Begin_Matlab/BeginMatlab00.png\" alt=\"YouTube Video\" width=\"550\"/>](https://www.youtube.com/watch?v=V8ik7X6I1Sk&list=PLLBUgWXdTBDhJJnJW2q2G7e84MZM6dxRN \"Course Overview\")\n",
    "\n",
    "One of the unique things about this course is that you work on basic elements to help you with a temperature control project. You will see your Matlab code have a real effect by adjusting heaters to maintain a target temperature, just like a thermostat in a home or office.\n",
    "\n",
    "![temperature](https://apmonitor.com/che263/uploads/Begin_Matlab/temperature.png)\n",
    "\n",
    "One of the best ways to start or review a programming language is to work on a simple project. These exercises are designed to teach basic Matlab programming skills to help you design a temperature controller.\n",
    "\n",
    "![programming](https://apmonitor.com/che263/uploads/Begin_Matlab/programming.png)\n",
    "\n",
    "Temperature control is found in many applications such as home or office HVAC, manufacturing processes, transportation, and life sciences. Even our bodies regulate to a specific temperature.\n",
    "\n",
    "![buildings](https://apmonitor.com/che263/uploads/Begin_Matlab/buildings.png)"
   ]
  },
  {
   "cell_type": "markdown",
   "metadata": {},
   "source": [
    "## Step 1: Get a TCLab\n",
    "\n",
    "This project is to regulate the temperature of the [Temperature Control Lab (TCLab)](https://apmonitor.com/heat.htm).\n",
    "\n",
    "![connect](https://apmonitor.com/pdc/uploads/Main/tclab_connect.png)\n",
    "\n",
    "Each TCLab has thermochromic (changes color with temperature) paint that turns from black to purple when the temperature reaches the target temperature of 37°C (99°F).\n",
    "\n",
    "![pid control](https://apmonitor.com/pdc/uploads/Main/pid_control.gif)"
   ]
  },
  {
   "cell_type": "markdown",
   "metadata": {},
   "source": [
    "## Step 2: Install Matlab or GNU Octave with Arduino Support"
   ]
  },
  {
   "cell_type": "markdown",
   "metadata": {},
   "source": [
    "![matlab](https://apmonitor.com/che263/uploads/Begin_Matlab/matlab.png)\n",
    "\n",
    "### Matlab\n",
    "\n",
    "Install [Matlab](https://www.mathworks.com/products/matlab.html) with the Arduino Support Package for Matlab and Simulink (2 separate Add-ons). The Arduino support package and instructions are available from:\n",
    "\n",
    "* [MATLAB Arduino support package](https://www.mathworks.com/hardware-support/arduino-matlab.html)\n",
    "* [Simulink Arduino support package](https://www.mathworks.com/hardware-support/arduino-simulink.html)\n",
    "\n",
    "After the Matlab Arduino Support package is installed, install the Arduino firmware for Matlab as a one-time setup:\n",
    "\n",
    "```octave\n",
    "arduinosetup\n",
    "```\n",
    "\n",
    "Once the firmware is loaded, Matlab connects to the Arduino with:\n",
    "\n",
    "```octave\n",
    "a = arduino\n",
    "```\n",
    "\n",
    "[![Install MATLAB Arduino Support](http://img.youtube.com/vi/DFvUJh8AYjE/0.jpg)](https://www.youtube.com/watch?v=DFvUJh8AYjE \"Install MATLAB Arduino Support\")\n",
    "\n",
    "There are [additional instructions on installing Matlab and managing modules](https://apmonitor.com/che263/index.php/Main/MatlabIntroduction)."
   ]
  },
  {
   "cell_type": "markdown",
   "metadata": {},
   "source": [
    "![octave](https://apmonitor.com/che263/uploads/Begin_Matlab/octave.png)\n",
    "\n",
    "### Octave\n",
    "\n",
    "A freely available alternative to Matlab is [GNU Octave](https://www.gnu.org/software/octave/). Octave has very similar syntax to Matlab and can also be used for this course. Install the Arduino support package from the Octave terminal. You can access instructions and the [Arduino package from Octave Forge](https://wiki.octave.org/Arduino_package):\n",
    "\n",
    "```octave\n",
    "pkg install -forge arduino\n",
    "```\n",
    "\n",
    "Next, load the Arduino package with:\n",
    "\n",
    "```octave\n",
    "pkg load arduino\n",
    "```\n",
    "\n",
    "Finally, install the Arduino firmware for Octave as a one-time setup:\n",
    "\n",
    "```octave\n",
    "arduinosetup\n",
    "```\n",
    "\n",
    "This requires the Arduino IDE to load the firmware. Once the firmware is loaded, Octave can connect to the Arduino with:\n",
    "\n",
    "```octave\n",
    "a = arduino\n",
    "```\n",
    "\n",
    "[![Install Octave with Arduino Support](http://img.youtube.com/vi/6UOn1IcNytA/0.jpg)](https://www.youtube.com/watch?v=6UOn1IcNytA \"Install Octave with Arduino Add-On\")"
   ]
  },
  {
   "cell_type": "markdown",
   "metadata": {},
   "source": [
    "## Step 3: Install Jupyter Notebook or Jupyter Lab\n",
    "\n",
    "You can either run the code exercises in the Matlab or Octave or from the Jupyter Notebook. Jupyter is not required for this course but it does make it easier to run code snippets and observe the results. Also the code can be run from a web-browser and fully integrated with the instructions. Jupyter Lab is a newer Integrated Development Environment (IDE) than Jupyter Notebook.   It is the next-generation web-based user interface for Project Jupyter. Both Jupyter Lab and Jupyter Notebooks can be used for Matlab or Octave.\n",
    "\n",
    "This video shows how to install a Project Jupyter IDE (Notebook or Lab) and install the Octave or Matlab kernels for this course. You can [install Jupyter Notebook or Jupyter Lab](https://www.youtube.com/watch?v=eUq-6ZuwC_A) from the command terminal or [install Anaconda](https://www.youtube.com/watch?v=LrMOrMb8-3s) that includes Jupyter Notebook.\n",
    "\n",
    "[![Run Matlab or Octave in Jupyter](http://img.youtube.com/vi/WufMGW5Bv4g/0.jpg)](https://www.youtube.com/watch?v=WufMGW5Bv4g \"Install Matlab or Octave Kernel in Jupyter\")"
   ]
  },
  {
   "cell_type": "markdown",
   "metadata": {},
   "source": [
    "### Option 1: Jupyter Notebook for Matlab\n",
    "\n",
    "For Matlab to run in a Jupyter notebook, you need to install the python engine. The MATLAB root for Windows is typically `C:\\Program Files\\MATLAB\\R2020a` or with a another folder such as `R2019a` or `R2018b` that is the version on your computer. The minimum requirement for this course is `R2016a` because earlier versions don't support the Arduino Leonardo connection. Run the following with Administrative privilege with `<matlabroot>` as the Matlab root directory (e.g. `C:\\Program Files\\MATLAB\\R2020a`):\n",
    "\n",
    "```bash\n",
    "cd \"<matlabroot>/extern/engines/python\"\n",
    "python setup.py install\n",
    "```\n",
    "\n",
    "Next, install the Matlab kernel for Jupyter Notebooks or Jupyter Lab\n",
    "\n",
    "```bash\n",
    "pip install matlab_kernel\n",
    "```\n",
    "\n",
    "### Option 2: Jupyter Notebook for Octave\n",
    "\n",
    "For Octave to run in a Jupyter notebook, you need to install the `octave_kernel`.\n",
    "\n",
    "```bash\n",
    "pip install octave_kernel\n",
    "```\n",
    "\n",
    "Also, you need to add `octave_cli.exe` to the `PATH` variable in Windows."
   ]
  },
  {
   "cell_type": "markdown",
   "metadata": {},
   "source": [
    "### Test Setup\n",
    "\n",
    "You are now all set to go! Run the code below to test that Matlab or Octave runs correctly. To run the cell, select the play button in the toolbar at the top or else type `Ctrl-Enter`. You should see the result of displaying `Test successful` if it is running correctly.  "
   ]
  },
  {
   "cell_type": "code",
   "execution_count": null,
   "metadata": {},
   "outputs": [],
   "source": [
    "disp('Test successful')"
   ]
  },
  {
   "cell_type": "markdown",
   "metadata": {},
   "source": [
    "### Switch Kernel Between Octave and Matlab\n",
    "\n",
    "Notebook files for this course are provided for MATLAB and Octave but they can easily be switched. The easiest way to switch the kernel is to select **Kernel**...**Change kernel** from the menu.\n",
    "\n",
    "A Jupyter notebook is a `JSON` text file that can be viewed with any text editor. You can switch between an Octave and Matlab kernel by editing the `.ipynb` file with a text editor or in the Jupyter notebook menu (*Edit*, *Edit Notebook Metadata*) and by replacing **octave / Octave** with **matlab / Matlab**.\n",
    "\n",
    "**Octave in metadata**\n",
    "\n",
    "```json\n",
    " \"metadata\": {\n",
    "  \"anaconda-cloud\": {},\n",
    "  \"kernelspec\": {\n",
    "   \"display_name\": \"Octave\",\n",
    "   \"language\": \"octave\",\n",
    "   \"name\": \"octave\"\n",
    "  }\n",
    "```\n",
    "\n",
    "**Matlab in metadata**\n",
    "\n",
    "```json\n",
    " \"metadata\": {\n",
    "  \"kernelspec\": {\n",
    "   \"display_name\": \"Matlab\",\n",
    "   \"language\": \"matlab\",\n",
    "   \"name\": \"matlab\"\n",
    "  }\n",
    "```"
   ]
  }
 ],
 "metadata": {
  "kernelspec": {
   "display_name": "Matlab",
   "language": "matlab",
   "name": "matlab"
  },
  "language_info": {
   "codemirror_mode": "octave",
   "file_extension": ".m",
   "help_links": [
    {
     "text": "MetaKernel Magics",
     "url": "https://metakernel.readthedocs.io/en/latest/source/README.html"
    }
   ],
   "mimetype": "text/x-octave",
   "name": "matlab",
   "version": "0.16.9"
  }
 },
 "nbformat": 4,
 "nbformat_minor": 2
}
