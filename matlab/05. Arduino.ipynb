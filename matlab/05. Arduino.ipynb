{
 "cells": [
  {
   "cell_type": "markdown",
   "metadata": {},
   "source": [
    "## 5. Arduino\n",
    "\n",
    "![list](https://apmonitor.com/che263/uploads/Begin_Matlab/list.png)\n",
    "\n",
    "There are many built-in functions in Matlab to facilitate complex programming steps with few lines of code. Using built-in functions can save many hours of programming but also increases the amount that you must learn to master the language. There are common Matlab functions and also additional functions that are available as toolboxes. Many of the functions are also implemented as classes that are collections of objects and functions. To receive help on any function, type `help` with the function name. This module reviews the `arduino` functions for reading and writing to the microcontroller."
   ]
  },
  {
   "cell_type": "markdown",
   "metadata": {},
   "source": [
    "[<img src=\"https://apmonitor.com/che263/uploads/Begin_Matlab/BeginMatlab05.png\" alt=\"YouTube Video\" width=\"550\"/>](https://www.youtube.com/watch?v=wuWLVbBFPuc&list=PLLBUgWXdTBDi3J05aMVG1knUpqRhkbc46 \"Course Overview\")"
   ]
  },
  {
   "cell_type": "markdown",
   "metadata": {},
   "source": [
    "### One-Time Setup\n",
    "\n",
    "You may need to run `arduinosetup` from the command line before continuing with this section. The Arduino support package must also be installed. For `Matlab` you can access the Arduino support packages and instructions:\n",
    "* [MATLAB Arduino support package](https://www.mathworks.com/hardware-support/arduino-matlab.html)\n",
    "* [Simulink Arduino support package](https://www.mathworks.com/hardware-support/arduino-simulink.html)\n",
    "\n",
    "For GNU Octave you can access instructions and the Arduino package from forge:\n",
    "* [Octave Arduino support package](https://wiki.octave.org/Arduino_package)."
   ]
  },
  {
   "cell_type": "markdown",
   "metadata": {},
   "source": [
    "After the Arduino support package is installed for either Matlab or Octave, you need to load the firmware on the Arduino once with the commands:\n",
    "\n",
    "```octave\n",
    "pkg load arduino\n",
    "arduinosetup\n",
    "```\n",
    "\n",
    "There is a video on [Arduino setup with Matlab](https://youtu.be/DFvUJh8AYjE) and [Arduino setup with Octave](https://youtu.be/6UOn1IcNytA)."
   ]
  },
  {
   "cell_type": "markdown",
   "metadata": {},
   "source": [
    "### Try and Catch\n",
    "\n",
    "![idea](https://apmonitor.com/che263/uploads/Begin_Matlab/idea.png)\n",
    "\n",
    "`Try` and `Catch` methods can catch program errors. The program attempts to run the code under ```try```, and if it can't it runs the ```catch``` section of the code. This is useful in a number of situations, such as importing packages you may not have installed and printing a message that something is wrong."
   ]
  },
  {
   "cell_type": "code",
   "execution_count": null,
   "metadata": {},
   "outputs": [],
   "source": [
    "try\n",
    "    pkg load arduino\n",
    "    disp('Loaded Arduino support package')\n",
    "catch\n",
    "    disp('Command not needed for Matlab. If Octave, need to install Arduino support package')\n",
    "end"
   ]
  },
  {
   "cell_type": "markdown",
   "metadata": {},
   "source": [
    "### Objects\n",
    "\n",
    "![parent_child](https://apmonitor.com/che263/uploads/Begin_Matlab/parent_child.png)\n",
    "\n",
    "Variables may be `double` or `char` types or any type of object. Objects may also be created from a class (template) to create a new custom object. You use an assignment operator (```=```) to create an object and assign it to a name, such as ```alab = arduino```. This is called a parent (`arduino`) to child (`alab`) relationship because `alab` is created from the class object `arduino`. The child object `alab` inherents all the functions of the parent. The child object is modified and customized in your code. You can give objects a name that you will remember and that are easy to type."
   ]
  },
  {
   "cell_type": "markdown",
   "metadata": {},
   "source": [
    "```matlab\n",
    "alab = arduino\n",
    "```\n",
    "\n",
    "The first part of the expression is the child object name. For the Temperature Control Lab, we often use ```lab``` as the name of our object. In this case, we'll use the name ```alab``` as you first connect to the Arduino and access the raw signals. First, plug in the blue USB cable to the Arduino and your computer and connect to the arduino lab. If it does not complete this step then the firmware may not be loaded (see instructions above).\n",
    "\n",
    "<img src='https://apmonitor.com/che263/uploads/Begin_Matlab/connections_no_power.png' width=550px>"
   ]
  },
  {
   "cell_type": "code",
   "execution_count": null,
   "metadata": {
    "scrolled": true
   },
   "outputs": [],
   "source": [
    "alab = arduino"
   ]
  },
  {
   "cell_type": "markdown",
   "metadata": {},
   "source": [
    "If it connects successfully, you should see something like the following in Matlab or Octave:\n",
    "\n",
    "**Matlab Successful Arduino Connection**\n",
    "\n",
    "```octave\n",
    "                  Port: 'COM10'\n",
    "                 Board: 'Leonardo'\n",
    "         AvailablePins: {'D2-D13', 'A0-A5'}\n",
    "  AvailableDigitalPins: {'D2-D13', 'A0-A5'}\n",
    "      AvailablePWMPins: {'D3', 'D5-D6', 'D9-D11', 'D13'}\n",
    "   AvailableAnalogPins: {'A0-A5', 'D4', 'D6', 'D8-D10', 'D12'}\n",
    "    AvailableI2CBusIDs: [0]\n",
    "AvailableSerialPortIDs: [1]\n",
    "             Libraries: {'I2C', 'SPI', 'Servo'}\n",
    "```\n",
    "\n",
    "**Octave Successful Arduino Connection**\n",
    "```octave\n",
    "alab = \n",
    "  arduino object with fields of: \n",
    "    port = \\\\.\\COM10\n",
    "    board = leonardo\n",
    "    libraries = {\n",
    "      i2c\n",
    "      spi\n",
    "      servo\n",
    "      shiftregister\n",
    "    }\n",
    "    availablepins = {\n",
    "      d0 - d17\n",
    "      a0 - a5\n",
    "      d30\n",
    "    }\n",
    "```\n",
    "\n",
    "The TCLab has two heaters (`D3` and `D5` pins), two temperature sensors (`A0` and `A2` pins), and an LED (`D9` pins).\n",
    "\n",
    "<img src='http://apmonitor.com/pdc/uploads/Main/tclab_schematic.png' width=550px>\n",
    "\n",
    "For the <a href='https://apmonitor.com/heat.htm'>Temperature Control Lab (TCLab)</a>, the raw signals and commands are accessed from the following Arduino pins:\n",
    "\n",
    "* ***A0***: Analog input 0 voltage to calculate temperature 1\n",
    "* ***A2***: Analog input 2 voltage to calculate temperature 2\n",
    "* ***D3***: Digital output 3 to adjust heater 1\n",
    "* ***D5***: Digital output 5 to adjust heater 2\n",
    "* ***D9***: Digital output 9 to adjust LED\n",
    "\n",
    "The voltage from an Analog pin is read with `readVoltage(arduino_object,Pin)`. In this case, we'll start by reading from Analog pin 0 or `A0`."
   ]
  },
  {
   "cell_type": "code",
   "execution_count": null,
   "metadata": {},
   "outputs": [],
   "source": [
    "v1 = readVoltage(alab,'A0');\n",
    "disp(['Temperature 1 (Voltage): ', num2str(v1)])"
   ]
  },
  {
   "cell_type": "markdown",
   "metadata": {},
   "source": [
    "For the TMP36 sensor, the relationship between voltage and temperature in °C is:\n",
    "\n",
    "$T = 100 \\, (V - 0.5)$\n",
    "\n",
    "The temperature sensor is a transistor that can read temperatures between -40°C (0.1 V) and 150°C (2.0 V). Calculate the temperature from the voltage."
   ]
  },
  {
   "cell_type": "code",
   "execution_count": null,
   "metadata": {},
   "outputs": [],
   "source": [
    "T1 = (v1 - 0.5)*100.0;\n",
    "disp(['Temperature 1: ', num2str(T1), '°C'])"
   ]
  },
  {
   "cell_type": "markdown",
   "metadata": {},
   "source": [
    "![heat_warn](https://apmonitor.com/che263/uploads/Begin_Matlab/heat_warn.png)\n",
    "\n",
    "There is thermochromic paint on the heater that changes from <em>black</em> to <em style=\"color:red\">red</em> at 37°C to let you know when it is hot. Heat up the sensor with your finger on Temperature sensor 1 if it is cold. If it is hot then blow on the sensor to cool it off. Observe the change in temperature. "
   ]
  },
  {
   "cell_type": "code",
   "execution_count": null,
   "metadata": {},
   "outputs": [],
   "source": [
    "v1b = readVoltage(alab,'A0');\n",
    "T1b = (v1b - 0.5)*100.0;\n",
    "disp(['Temperature 1: ', num2str(T1), '°C'])\n",
    "disp(['Temperature 1b: ', num2str(T1b), '°C'])\n",
    "disp(['Temperature Change: ', num2str(T1b-T1), '°C'])"
   ]
  },
  {
   "cell_type": "markdown",
   "metadata": {},
   "source": [
    "To control the LED, use the `writePWMDutyCycle()` function. This function sends a signal to a digital pin to turn on and off 490 times per second. If you give it a request of 1.0 then it is on constantly. With 0.0, it is always off and 0.5 means that it is on half of the cycles. Because it goes so fast, it appears that it is on only 50% even though it is cycling on and off rapidly."
   ]
  },
  {
   "cell_type": "code",
   "execution_count": null,
   "metadata": {},
   "outputs": [],
   "source": [
    "writePWMDutyCycle(alab,'D9',0.5); disp('LED 50%')\n",
    "pause(1)\n",
    "writePWMDutyCycle(alab,'D9',0.3); disp('LED 30%')\n",
    "pause(1)\n",
    "writePWMDutyCycle(alab,'D9',0.1); disp('LED 10%')\n",
    "pause(1)\n",
    "writePWMDutyCycle(alab,'D9',0.02); disp('LED 2%')"
   ]
  },
  {
   "cell_type": "markdown",
   "metadata": {},
   "source": [
    "Plug in the power cable and power supply to test the heaters. The power supply is required because the Arduino board cannot provide sufficient power for the heaters. The heater power is on a separate circuit that receives power from the white cable and power supply. \n",
    "\n",
    "<img src='https://apmonitor.com/che263/uploads/Begin_Matlab/connections.png' width=550px>\n",
    "\n",
    "You can try plugging the white cable in to a computer's USB 2 port (0.5W) or USB 3 port (1.5W) but the white power supply (5V, 2A = 10W) provides the best power source. Note that using two USB ports on your computer for communication (blue cable) and power (white cable) can cause extra sensor noise because the heater PWM cycling interferes with the sensor readings. Using the white USB power supply is recommended.\n",
    "\n",
    "Use the same `writePWMDutyCycle()` function but change `D9` to `D3` for heater 1 or `D5` for heater 2.\n",
    "\n",
    "```octave\n",
    "writePWMDutyCycle(alab,'D3',0.6) % Heater 1\n",
    "writePWMDutyCycle(alab,'D5',0.2) % Heater 2\n",
    "```\n",
    "\n",
    "This turns on Heater 1 to 60%, waits 20 seconds, and then prints the before and after temperatures."
   ]
  },
  {
   "cell_type": "code",
   "execution_count": null,
   "metadata": {},
   "outputs": [],
   "source": [
    "writePWMDutyCycle(alab,'D3',0.6); % Turn on Heater 1 to 60%\n",
    "fprintf('Temperature 1: %0.2f°C\\n', 100*(readVoltage(alab,'A0')-0.5))\n",
    "disp('Wait 20 seconds')\n",
    "pause(20)\n",
    "fprintf('Temperature 1: %0.2f°C', 100*(readVoltage(alab,'A0')-0.5))\n",
    "writePWMDutyCycle(alab,'D3',0.0); % Turn Off Heater 1"
   ]
  },
  {
   "cell_type": "markdown",
   "metadata": {},
   "source": [
    "After you are done using the Arduino you can disconnect by clearing the Arduino object `alab`."
   ]
  },
  {
   "cell_type": "code",
   "execution_count": null,
   "metadata": {},
   "outputs": [],
   "source": [
    "clear alab  # close connection"
   ]
  },
  {
   "cell_type": "markdown",
   "metadata": {},
   "source": [
    "There is additional information on the TCLab in the following video and at https://apmonitor.com/heat.htm, including use in Simulink, Java, and Python."
   ]
  },
  {
   "cell_type": "markdown",
   "metadata": {},
   "source": [
    "[![TCLab](https://img.youtube.com/vi/E5747TUHVmQ/0.jpg)](https://www.youtube.com/watch?v=E5747TUHVmQ \"Temperature Control Lab\")"
   ]
  },
  {
   "cell_type": "markdown",
   "metadata": {},
   "source": [
    "#### TCLab Test\n",
    "\n",
    "Download the `tclab.m` package by running the cell below (`Ctrl+Enter`). The `tclab.m` file will appear in the same folder where you are running this notebook. The source file `tclab.m` is from the [URL on GitHub](https://github.com/APMonitor/begin_matlab/blob/master/tclab.m) and may already be in your run directory. Matlab and Octave have different methods (`websave` or `urlwrite`) to retrieve an Internet file. We first `try` the Match function and then `catch` any errors by trying the Octave function.\n"
   ]
  },
  {
   "cell_type": "code",
   "execution_count": null,
   "metadata": {},
   "outputs": [],
   "source": [
    "file = 'tclab.m';\n",
    "url = 'https://raw.githubusercontent.com/APMonitor/begin_matlab/master/tclab.m';\n",
    "\n",
    "try\n",
    "    % for MATLAB\n",
    "    websave(file,url);\n",
    "catch\n",
    "    % for Octave\n",
    "    urlwrite(url,file);\n",
    "end"
   ]
  },
  {
   "cell_type": "markdown",
   "metadata": {},
   "source": [
    "You can then connect to the TCLab (Arduino Leonardo) just like before but by creating a new `tclab` object.\n",
    "\n",
    "```python\n",
    "lab = tclab\n",
    "```\n",
    "\n",
    "The first part of the expression is the child object name. For the Temperature Control Lab, we often use ```lab``` to as the name of our object. For something like your incubator, you could make an object to connect with it, called something like ```incubator```. \n",
    "\n",
    "The second part after ```=```, opens the object called ```tclab```. This object is what allows you to connect with the TCLab, read current temperatures, adjust heaters, or change the LED brightness with simplified functions shown below.\n",
    "\n",
    "**Connect**\n",
    "\n",
    "```lab = tclab``` Connect and create new lab object"
   ]
  },
  {
   "cell_type": "code",
   "execution_count": null,
   "metadata": {},
   "outputs": [],
   "source": [
    "lab = tclab; % Connect to the TCLab"
   ]
  },
  {
   "cell_type": "markdown",
   "metadata": {},
   "source": [
    "**LED**\n",
    "\n",
    "```lab.LED()``` Percentage of output light for __Hot__ light between 0 and 100%."
   ]
  },
  {
   "cell_type": "code",
   "execution_count": null,
   "metadata": {},
   "outputs": [],
   "source": [
    "lab.LED(10);"
   ]
  },
  {
   "cell_type": "markdown",
   "metadata": {},
   "source": [
    "**Heaters**\n",
    "\n",
    "```lab.Q1()``` and ```lab.Q2()``` Percentage of power to heaters between 0 and 100%."
   ]
  },
  {
   "cell_type": "code",
   "execution_count": null,
   "metadata": {},
   "outputs": [],
   "source": [
    "lab.Q1(80);"
   ]
  },
  {
   "cell_type": "markdown",
   "metadata": {},
   "source": [
    "**Temperatures**\n",
    "\n",
    "```lab.T1``` and ```lab.T2``` Value of current heater tempertures in degrees Celsius."
   ]
  },
  {
   "cell_type": "code",
   "execution_count": null,
   "metadata": {},
   "outputs": [],
   "source": [
    "lab.T1\n",
    "lab.T2"
   ]
  },
  {
   "cell_type": "markdown",
   "metadata": {},
   "source": [
    "**Shut down**\n",
    "\n",
    "```lab.off()``` turns off heaters."
   ]
  },
  {
   "cell_type": "code",
   "execution_count": null,
   "metadata": {},
   "outputs": [],
   "source": [
    "lab.off()"
   ]
  },
  {
   "cell_type": "markdown",
   "metadata": {},
   "source": [
    "**Disconnect**\n",
    "\n",
    "```clear all``` or ```clear lab``` to disconnect from lab."
   ]
  },
  {
   "cell_type": "code",
   "execution_count": null,
   "metadata": {},
   "outputs": [],
   "source": [
    "clear lab % Close connection"
   ]
  },
  {
   "cell_type": "markdown",
   "metadata": {},
   "source": [
    "### Activity\n",
    "\n",
    "![expert](https://apmonitor.com/che263/uploads/Begin_Matlab/expert.png)\n",
    "\n",
    "Connect the blue USB cable and plug in the white power cable to the power adapter. Run the TCLab exercise below that imports and tests the `TCLab` functions.\n",
    "\n",
    "1. Modify the name of the object from `lab` to `inc` (for incubator)\n",
    "2. Add comments to the code such as `% this is a comment` on the purpose of each line\n",
    "3. Change the LED brightness to the same level as the temperature to visually display `T1`\n",
    "\n",
    "<img src='https://apmonitor.com/che263/uploads/Begin_Matlab/connections.png' width=550px>\n",
    "\n",
    "**TCLab Function Help**\n",
    "\n",
    "***Connect:*** ```lab = tclab``` Connect and create new lab object.\n",
    "\n",
    "***LED:*** ```lab.LED()``` Percentage of output light for __Hot__ Light.\n",
    "\n",
    "***Heaters:*** ```lab.Q1()``` and ```lab.Q2()``` Percentage of power to heaters (0-100).\n",
    "\n",
    "***Temperatures:*** ```lab.T1``` and ```lab.T2``` Value of current heater temperatures.\n",
    "\n",
    "***Disconnect:*** ```lab.off()``` turns off LED and heaters, ```clear lab``` disconnects lab."
   ]
  },
  {
   "cell_type": "code",
   "execution_count": null,
   "metadata": {},
   "outputs": [],
   "source": [
    "clear lab\n",
    "lab = tclab;\n",
    "disp('Turn on heaters and LED for 10 seconds')\n",
    "lab.Q1(100);\n",
    "lab.LED(100);\n",
    "\n",
    "fprintf('T1: %.2f \\n',lab.T1)\n",
    "pause(10);\n",
    "fprintf('T1: %.2f \\n',lab.T1)\n",
    "\n",
    "lab.off;\n",
    "clear lab"
   ]
  }
 ],
 "metadata": {
  "kernelspec": {
   "display_name": "Matlab",
   "language": "matlab",
   "name": "matlab"
  },
  "language_info": {
   "codemirror_mode": "octave",
   "file_extension": ".m",
   "help_links": [
    {
     "text": "MetaKernel Magics",
     "url": "https://metakernel.readthedocs.io/en/latest/source/README.html"
    }
   ],
   "mimetype": "text/x-octave",
   "name": "matlab",
   "version": "0.16.9"
  }
 },
 "nbformat": 4,
 "nbformat_minor": 2
}
