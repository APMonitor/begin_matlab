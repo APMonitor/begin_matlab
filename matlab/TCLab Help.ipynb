{
 "cells": [
  {
   "cell_type": "markdown",
   "metadata": {},
   "source": [
    "## TCLab Function Help\n",
    "\n",
    "![connect](https://apmonitor.com/pdc/uploads/Main/tclab_connect.png)\n",
    "\n",
    "#### Connect\n",
    "```lab = tclab``` Connect and create new lab object\n",
    "\n",
    "#### LED\n",
    "```lab.LED()``` Percentage of output light for __Hot__ Light.\n",
    "\n",
    "#### Heaters\n",
    "```lab.Q1()``` and ```lab.Q2()``` Percentage of power to heaters.\n",
    "\n",
    "#### Temperatures\n",
    "```lab.T1``` and ```lab.T2``` Value of current heater temperatures in Celsius.\n",
    "\n",
    "#### Shut down\n",
    "```lab.off()``` turns off heaters.\n",
    "\n",
    "#### Disconnect\n",
    "```clear all``` or ```clear lab``` to disconnect from lab."
   ]
  },
  {
   "cell_type": "markdown",
   "metadata": {},
   "source": [
    "### Matlab\n",
    "\n",
    "Install [Matlab](https://www.mathworks.com/products/matlab.html) with the Arduino Support Package for Matlab and Simulink (2 separate Add-ons).\n",
    "\n",
    "[![Install MATLAB Arduino Support](http://img.youtube.com/vi/DFvUJh8AYjE/0.jpg)](https://www.youtube.com/watch?v=DFvUJh8AYjE \"Install MATLAB Arduino Support\")\n",
    "\n",
    "There are [additional instructions on installing Matlab and managing modules](https://apmonitor.com/che263/index.php/Main/MatlabIntroduction)."
   ]
  },
  {
   "cell_type": "markdown",
   "metadata": {},
   "source": [
    "### Octave\n",
    "\n",
    "A freely available alternative to Matlab is [GNU Octave](https://www.gnu.org/software/octave/). \n",
    "\n",
    "<img src=\"https://apmonitor.com/che263/uploads/Begin_Matlab/octave.png\" alt=\"Octave\"/>\n",
    "\n",
    "Octave has very similar syntax to Matlab and can also be used for this course. Install the Arduino support package from the Octave terminal with:\n",
    "\n",
    "```octave\n",
    "pkg install -forge arduino\n",
    "```"
   ]
  },
  {
   "cell_type": "markdown",
   "metadata": {},
   "source": [
    "### How to Run a Cell\n",
    "Use the symbol to run the needed cell, left of the program. If you don't see a symbol, try selecting the cell and holding `Ctrl`, then pressing `Enter`. Another option is clicking the \"Run\" button at the top of the page when the cell is selected."
   ]
  },
  {
   "cell_type": "markdown",
   "metadata": {},
   "source": [
    "### Retrieve Temperature Control Lab Code `tclab.m`\n",
    "\n",
    "![temperature](https://apmonitor.com/che263/uploads/Begin_Matlab/temperature.png)\n",
    "\n",
    "You need the TCLab to do the exercises. As a first step, plug in the TCLab (USB blue cable only) and download the `tclab.m` package by running the cell below (`Ctrl+Enter`). The `tclab.m` file will appear in the same folder where you are running `01. Overview.ipynb`. The source file `tclab.m` is from the [URL on GitHub](https://github.com/APMonitor/begin_matlab/blob/master/tclab.m) and may already be in your run directory. Matlab and Octave have different methods (`websave` or `urlwrite`) to retrieve an Internet file. We first `try` the Match function and then `catch` any errors by trying the Octave function."
   ]
  },
  {
   "cell_type": "code",
   "execution_count": null,
   "metadata": {},
   "outputs": [],
   "source": [
    "file = 'tclab.m';\n",
    "url = 'https://raw.githubusercontent.com/APMonitor/begin_matlab/master/tclab.m';\n",
    "\n",
    "try\n",
    "    % for MATLAB\n",
    "    websave(file,url);\n",
    "catch\n",
    "    % for Octave\n",
    "    urlwrite(url,file);\n",
    "end"
   ]
  },
  {
   "cell_type": "markdown",
   "metadata": {},
   "source": [
    "### Connection Check\n",
    "\n",
    "![connect](https://apmonitor.com/pdc/uploads/Main/tclab_connect.png)\n",
    "\n",
    "The following code connects, reads temperatures 1 and 2, sets heaters 1 and 2, turns on the LED to 45%, and then disconnects from the TCLab. If an error is shown try unplugging your lab or restarting the Jupyter kernel from the notebook menu."
   ]
  },
  {
   "cell_type": "code",
   "execution_count": null,
   "metadata": {},
   "outputs": [],
   "source": [
    "clear all\n",
    "lab = tclab;\n",
    "disp('Temperatures')\n",
    "disp([lab.T1,lab.T2])\n",
    "disp('Turn on heaters')\n",
    "lab.Q1(50); lab.Q2(40);\n",
    "lab.LED(45);\n",
    "pause(2); disp('Paused 2 sec')\n",
    "disp(lab.off())\n",
    "clear lab"
   ]
  },
  {
   "cell_type": "markdown",
   "metadata": {},
   "source": [
    "### Errors\n",
    "\n",
    "![debug](https://apmonitor.com/che263/uploads/Begin_Matlab/debug.png)\n",
    "\n",
    "Submit an error to us at support@apmonitor.com so we can fix the problem and add it to this list. There is also a list of [troubleshooting items with frequently asked questions](https://apmonitor.com/pdc/index.php/Main/ArduinoSetup). If you get the error about already having an open connection to the TCLab, try restarting the **kernel** and ```clear lab```. Go to the top of the page to the **Kernel** tab, click it, then click restart."
   ]
  }
 ],
 "metadata": {
  "kernelspec": {
   "display_name": "Matlab",
   "language": "matlab",
   "name": "matlab"
  },
  "language_info": {
   "codemirror_mode": "octave",
   "file_extension": ".m",
   "help_links": [
    {
     "text": "MetaKernel Magics",
     "url": "https://metakernel.readthedocs.io/en/latest/source/README.html"
    }
   ],
   "mimetype": "text/x-octave",
   "name": "matlab",
   "version": "0.16.9"
  }
 },
 "nbformat": 4,
 "nbformat_minor": 2
}
