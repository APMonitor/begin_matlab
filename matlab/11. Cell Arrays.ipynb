{
 "cells": [
  {
   "cell_type": "markdown",
   "metadata": {},
   "source": [
    "## 11. Cell Arrays\n",
    "\n",
    "![list](https://apmonitor.com/che263/uploads/Begin_Matlab/list.png)\n",
    "\n",
    "Cell arrays are like regular arrays but you can use them to store different data types in a sequence.\n",
    "\n",
    "[Begin MATLAB Playlist on YouTube](https://www.youtube.com/watch?v=5nF6HutqoTQ&list=PLLBUgWXdTBDhJJnJW2q2G7e84MZM6dxRN)",
    "\n",
    "[<img src=\"https://apmonitor.com/che263/uploads/Begin_Matlab/BeginMatlab11.png\" alt=\"YouTube Video\" width=\"550\"/>](https://www.youtube.com/watch?v=5nF6HutqoTQ&list=PLLBUgWXdTBDhJJnJW2q2G7e84MZM6dxRN \"Cell Arrays\")\n",
    "\n",
    "The format for this method of storing values is curly brackets ```{}```. After you assign the cell array a name, you can enter values and separate them with commas."
   ]
  },
  {
   "cell_type": "code",
   "execution_count": null,
   "metadata": {
    "scrolled": true
   },
   "outputs": [],
   "source": [
    "% cell array of strings\n",
    "chickens = {'Leghorn', 'Barnevelder', 'Plymouth Rock'}"
   ]
  },
  {
   "cell_type": "markdown",
   "metadata": {},
   "source": [
    "You can also have an array in a cell array."
   ]
  },
  {
   "cell_type": "code",
   "execution_count": null,
   "metadata": {},
   "outputs": [],
   "source": [
    "chickens = {'Leghorn', [true, 42],'Barnevelder', \"Plymouth Rock\"}"
   ]
  },
  {
   "cell_type": "markdown",
   "metadata": {},
   "source": [
    "You can replace elements of the array or delete a specific value. Use `cellstr()` in Matlab to convert a string to a cell entry (optional for Octave)."
   ]
  },
  {
   "cell_type": "code",
   "execution_count": null,
   "metadata": {},
   "outputs": [],
   "source": [
    "chickens = {'Leghorn', 'Barnevelder', 'Plymouth Rock'}\n",
    "chickens(1) = cellstr('Ancona')                        % Replaces Leghorn with Ancona\n",
    "chickens(2) = []                                       % Deletes the second value"
   ]
  },
  {
   "cell_type": "markdown",
   "metadata": {},
   "source": [
    "You can also insert a value like `'maybe'` into a cell array."
   ]
  },
  {
   "cell_type": "code",
   "execution_count": null,
   "metadata": {},
   "outputs": [],
   "source": [
    "myArray = {'yes', 'no'}\n",
    "myArray(3) = {'maybe'}"
   ]
  },
  {
   "cell_type": "markdown",
   "metadata": {},
   "source": [
    "Use the `cell2mat()` function to convert the cell array to a matrix. An array is a 1D matrix."
   ]
  },
  {
   "cell_type": "code",
   "execution_count": null,
   "metadata": {},
   "outputs": [],
   "source": [
    "chickens = {'Leghorn', 'Barnevelder', 'Plymouth Rock'};\n",
    "for i = 1:length(chickens)\n",
    "    disp(cell2mat(chickens(i)))\n",
    "end"
   ]
  },
  {
   "cell_type": "markdown",
   "metadata": {},
   "source": [
    "Like arrays, you can access the elements of an array inside a `for` loop. The `if` statement inside controls what message is printed. The `strcmp()` function is comparing two string values. If they are the same it will be ```true```."
   ]
  },
  {
   "cell_type": "code",
   "execution_count": null,
   "metadata": {},
   "outputs": [],
   "source": [
    "chickens = {'Leghorn', 'Barnevelder', 'Plymouth Rock'};\n",
    "\n",
    "disp(chickens)\n",
    "for i = 1:length(chickens)\n",
    "    chicken = cell2mat(chickens(i));\n",
    "    if strcmp(chicken,'Leghorn')\n",
    "        disp('Replace with Ancona')\n",
    "        chickens(i) = cellstr('Ancona');\n",
    "    end\n",
    "end\n",
    "disp(chickens)"
   ]
  },
  {
   "cell_type": "markdown",
   "metadata": {},
   "source": [
    "### Activity\n",
    "\n",
    "![expert](https://apmonitor.com/che263/uploads/Begin_Matlab/expert.png)\n",
    "\n",
    "Create a cell array of animals that lay eggs (at least three). \n",
    "\n",
    "![animal eggs](https://apmonitor.com/che263/uploads/Begin_Matlab/animal_eggs.png)\n",
    "\n",
    "Make a while loop with an input to ask for the color of the animal and store it in a cell array. The `while` loop should stop if equal to ```\"none\"```. Make sure the loop displays the animal and the corresponding color."
   ]
  },
  {
   "cell_type": "code",
   "execution_count": null,
   "metadata": {},
   "outputs": [],
   "source": [
    "animals = {}"
   ]
  },
  {
   "cell_type": "markdown",
   "metadata": {},
   "source": [
    "Turn on TCLab heater 1 `lab.Q1(70)` to 70% and record the time `datestr(clock())` and temperature `lab.T1` every second for 20 seconds for a total of 20 rows. Put the data into a cell array with the first column as the datetime and the second column as the temperature data. Save the results to a CSV file with headers `Time` and `Temperature`.\n",
    "\n",
    "Tips for Matlab:\n",
    "\n",
    " - Use `cellstr()` to convert the `datestr(clock())` to a cell string. You can use either `datestr(clock())` or `cellstr{datestr(clock())}` in Octave.\n",
    " - Use `{lab.T1}` to convert the double precision number to a cell entry. You can use either `lab.T1` or `{lab.T1}` in Octave.\n",
    "\n",
    "![connections](https://apmonitor.com/che263/uploads/Begin_Matlab/connections.png)"
   ]
  },
  {
   "cell_type": "code",
   "execution_count": null,
   "metadata": {},
   "outputs": [],
   "source": []
  }
 ],
 "metadata": {
  "kernelspec": {
   "display_name": "Matlab",
   "language": "matlab",
   "name": "matlab"
  },
  "language_info": {
   "codemirror_mode": "octave",
   "file_extension": ".m",
   "help_links": [
    {
     "text": "MetaKernel Magics",
     "url": "https://metakernel.readthedocs.io/en/latest/source/README.html"
    }
   ],
   "mimetype": "text/x-octave",
   "name": "matlab",
   "version": "0.16.9"
  }
 },
 "nbformat": 4,
 "nbformat_minor": 2
}
