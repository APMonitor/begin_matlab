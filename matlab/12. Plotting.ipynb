{
 "cells": [
  {
   "cell_type": "markdown",
   "metadata": {},
   "source": [
    "## 12. Plotting\n",
    "\n",
    "![list](https://apmonitor.com/che263/uploads/Begin_Matlab/list.png)\n",
    "\n",
    "A plot is a visual representation of the data and is especially valuable to analyze data graphically. You can plot with the ```plot(x,y)``` function.\n",
    "\n",
    "[Begin MATLAB Playlist on YouTube](https://www.youtube.com/watch?v=VezzTS9P1Tk&list=PLLBUgWXdTBDhJJnJW2q2G7e84MZM6dxRN)",
    "\n",
    "[<img src=\"https://apmonitor.com/che263/uploads/Begin_Matlab/BeginMatlab12.png\" alt=\"YouTube Video\" width=\"550\"/>](https://www.youtube.com/watch?v=VezzTS9P1Tk&list=PLLBUgWXdTBDhJJnJW2q2G7e84MZM6dxRN \"Graphing\")\n",
    "\n",
    "In the incubator example, we may want to see how the temperature changes with time. The ```x```-axis may be __time__ and ```y```-axis may be the __data__. In an incubator, graphs could be used for a number of things. Some could be heater percentage, egg temperature, and much more.\n",
    "\n",
    "In the code below, graphs can have lines that are formatted as dashed lines:\n",
    "\n",
    "```octave\n",
    "plot(x,y,'r--')\n",
    "```\n",
    "\n",
    "Changing values for ```x``` and ```y``` will change the points that are plotted for the lines. The ```r``` means that the line is red and the ```--``` means that the same line is dashed. Here is a list of additional line modifiers to change the color, data marker style, and line style.\n",
    "\n",
    "```\n",
    "     ---- Color ----     ---- Data Style ----    ---- Line Style ----\n",
    "     b     blue          .     point              -       solid\n",
    "     g     green         o     circle             :       dotted\n",
    "     r     red           x     x-mark             -.      dashdot \n",
    "     c     cyan          +     plus               --      dashed   \n",
    "     m     magenta       *     star               (none)  no line\n",
    "     y     yellow        s     square\n",
    "     k     black         d     diamond\n",
    "     w     white         v     triangle (down)\n",
    "                         h     hexagram\n",
    "                         p     pentagram\n",
    "                         ^     triangle (up)\n",
    "                         <     triangle (left)\n",
    "                         >     triangle (right)\n",
    "```\n",
    "\n",
    "Use the `hold on` command to not replace the prior line."
   ]
  },
  {
   "cell_type": "code",
   "execution_count": null,
   "metadata": {},
   "outputs": [],
   "source": [
    "x = [1, 2, 3, 4]; # Times\n",
    "\n",
    "y = [3, 4, 2, 6]; # Array with data\n",
    "z = [5, 1, 8, 3]; # Array with data\n",
    "\n",
    "plot(x,y) # Plots a graph with the list\n",
    "hold on\n",
    "plot(x,z,'r--') # 'r--' changes line to red, and to a dashed line"
   ]
  },
  {
   "cell_type": "markdown",
   "metadata": {},
   "source": [
    "### Help Command"
   ]
  },
  {
   "cell_type": "markdown",
   "metadata": {},
   "source": [
    "![idea](https://apmonitor.com/che263/uploads/Begin_Matlab/idea.png)\n",
    "\n",
    "You can see all available functions by running the code ```help plot```. You can also use the ```help``` for any other function."
   ]
  },
  {
   "cell_type": "code",
   "execution_count": null,
   "metadata": {},
   "outputs": [],
   "source": [
    "help plot"
   ]
  },
  {
   "cell_type": "markdown",
   "metadata": {},
   "source": [
    "### Activity\n",
    "\n",
    "![expert](https://apmonitor.com/che263/uploads/Begin_Matlab/expert.png)\n",
    "\n",
    "Make a plot using 3 lines with 5 data points each.\n",
    "\n",
    "```python\n",
    "time = [1, 2, 3, 4, 5]\n",
    "x = [5,4,0,2,3]\n",
    "y = [3,-1,4,6,8]\n",
    "z = [1,2,4,8,9]\n",
    "```\n",
    "\n",
    "Use this data to plot (time, x), (time,y), and (time,z). Use the plotting examples or the plotting help above if you need help."
   ]
  },
  {
   "cell_type": "code",
   "execution_count": null,
   "metadata": {},
   "outputs": [],
   "source": [
    "time = [1, 2, 3, 4, 5];\n",
    "x = [5,4,0,2,3];\n",
    "y = [3,-1,4,6,8];\n",
    "z = [1,2,4,8,9];"
   ]
  },
  {
   "cell_type": "markdown",
   "metadata": {},
   "source": [
    "**Customizing Plots**\n",
    "\n",
    "Plots are customized with labels (x-label, y-label, title, legend) with more lines of code such as:\n",
    "\n",
    "```octave\n",
    "xlabel()  # add x-label\n",
    "ylabel()  # add y-label\n",
    "title()   # add title\n",
    "legend()  # add legend\n",
    "```\n",
    "\n",
    "There are other ways to modify the plot such as adjusting the range of `y` values (`ylim()`) or range of `x` values (`xlim()`). Each function modifies the plot and they can be used in any order. \n",
    "\n",
    "You can also create sub-plots by first telling what grid size you'd like to use. In this case, we have 2 rows and 1 column with:\n",
    "\n",
    "```octave\n",
    "subplot(2,1,1)\n",
    "```\n",
    "\n",
    "The third number (1) indicates that we are now plotting in the first sub-plot on top. When we give another command:\n",
    "\n",
    "```octave\n",
    "subplot(2,1,2)\n",
    "```\n",
    "\n",
    "to begin making modifications to the bottom subplot."
   ]
  },
  {
   "cell_type": "markdown",
   "metadata": {},
   "source": [
    "**Exporting Plots**\n",
    "\n",
    "Plots can be exported as a static figure or animated to create a movie.\n",
    "\n",
    "![MPC MIMO](https://apmonitor.com/do/uploads/Main/mpc_mimo_tclab.gif)\n",
    "\n",
    "A plot is exported by using the function:\n",
    "\n",
    "```octave\n",
    "% option 1\n",
    "print -dpng figure.png\n",
    "\n",
    "% option 2\n",
    "saveas('figure.png')\n",
    "```\n",
    "\n",
    "(Common file extensions for export are `.png`, `.jpg`, and `.eps`. Changing the name of the file extension changes the type and size of the file export. Portable Network Graphics(`.png`) files work well for import into a presentation or into a report document.) Encapsulated postscript (`.eps`) is best for inserting figures into technical documents (especially LaTeX)."
   ]
  },
  {
   "cell_type": "markdown",
   "metadata": {},
   "source": [
    "#### Where did it save the file?\n",
    "\n",
    "Sometimes it can be hard to find the directory where the figure is saved. You can display your current run folder by running the following command."
   ]
  },
  {
   "cell_type": "code",
   "execution_count": null,
   "metadata": {},
   "outputs": [],
   "source": [
    "disp([\"Figure saved in current directory: \",pwd])"
   ]
  },
  {
   "cell_type": "markdown",
   "metadata": {},
   "source": [
    "### Activity\n",
    "\n",
    "![expert](https://apmonitor.com/che263/uploads/Begin_Matlab/expert.png)\n",
    "\n",
    "Try the code below to add a title, x-label, and y-label. \n",
    "\n",
    "Adjust the `y` range to be between `-1` and `1.2`. Adjust the `x` range to be between `0` and `5`.\n",
    "\n",
    "The legend (`legend`) gets values to run from lines `plot(label='Your label')`.\n",
    "\n",
    "**Bonus:** Split the two plots into two subplots. "
   ]
  },
  {
   "cell_type": "code",
   "execution_count": null,
   "metadata": {},
   "outputs": [],
   "source": [
    "x = linspace(0,6,100); # (starting point, end point, how many points total)\n",
    "y = sin(x);\n",
    "z = cos(x);\n",
    "\n",
    "title('Put title here') # Add a title\n",
    "\n",
    "plot(x,y, 'r--', linewidth,5) # linewidth modifies the width of a line\n",
    "hold on\n",
    "plot(x,z, 'k:', linewidth,5) # label gives the line a label\n",
    "\n",
    "legend('y=sin(x)','What is a good label?') # Values given to legend\n",
    "\n",
    "xlim([0, 3])      # Set the x range: 0 to 5\n",
    "ylim([-1.5, 1.5]) # Set the y range: -1 to 1.2\n",
    "\n",
    "ylabel('Change y label')\n",
    "xlabel('Change x label')"
   ]
  },
  {
   "cell_type": "markdown",
   "metadata": {},
   "source": [
    "Make a plot that comes from the lab's temperatures, 30 seconds of data. The code below sets heater one to 70 percent and heater two to 100 percent. It collects data for 30 seconds in the lists `tm`=Time, `T1`=Temperature 1, and `T2`=Temperature 2."
   ]
  },
  {
   "cell_type": "code",
   "execution_count": null,
   "metadata": {},
   "outputs": [],
   "source": [
    "lab = tclab;\n",
    "\n",
    "# initialize lists\n",
    "tm = []; T1 = []; T2 = [];\n",
    "\n",
    "# turn on heaters\n",
    "lab.Q1(70); lab.Q2(100);\n",
    "\n",
    "# collect data for 30 seconds\n",
    "for i = 1:30\n",
    "    tm(i) = i;\n",
    "    T1(i) = lab.T1;\n",
    "    T2(i) = lab.T2;\n",
    "    disp([i,T1(i),T2(i)])\n",
    "    pause(1)\n",
    "end\n",
    "lab.off(); clear lab"
   ]
  },
  {
   "cell_type": "markdown",
   "metadata": {},
   "source": [
    "Make the plotting lines modified to your liking. Because you're using two heaters, you should have two lines to represent the two temperatures. Use what programming principles are necessary, and if needed review some basics."
   ]
  },
  {
   "cell_type": "code",
   "execution_count": null,
   "metadata": {},
   "outputs": [],
   "source": [
    "plot(tm,T1,'r--')\n",
    "hold on\n",
    "# add plot for temperature 2\n",
    "\n",
    "legend('T1','T2')\n",
    "xlabel('Add x-label')\n",
    "ylabel('Add y-label')\n",
    "print -dpng 12-temperatures.png"
   ]
  }
 ],
 "metadata": {
  "kernelspec": {
   "display_name": "Matlab",
   "language": "matlab",
   "name": "matlab"
  },
  "language_info": {
   "codemirror_mode": "octave",
   "file_extension": ".m",
   "help_links": [
    {
     "text": "MetaKernel Magics",
     "url": "https://metakernel.readthedocs.io/en/latest/source/README.html"
    }
   ],
   "mimetype": "text/x-octave",
   "name": "matlab",
   "version": "0.16.9"
  }
 },
 "nbformat": 4,
 "nbformat_minor": 2
}
