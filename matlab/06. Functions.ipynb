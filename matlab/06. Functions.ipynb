{
 "cells": [
  {
   "cell_type": "markdown",
   "metadata": {},
   "source": [
    "## 6. Functions\n",
    "\n",
    "![list](https://apmonitor.com/che263/uploads/Begin_Matlab/list.png)\n",
    "\n",
    "Functions create modular code that can do the same task repeatedly without you having to type out the same code each time. Functions make complex code accessible with a single statement. You also can create your own function, but there are also some are built in to Matlab or in many packages. One built-in function you have already seen is the ```disp()``` function.\n",
    "\n",
    "[Begin MATLAB Playlist on YouTube](https://www.youtube.com/watch?v=Gkgxa05aWec&list=PLLBUgWXdTBDhJJnJW2q2G7e84MZM6dxRN)",
    "\n",
    "[<img src=\"https://apmonitor.com/che263/uploads/Begin_Matlab/BeginMatlab06.png\" alt=\"YouTube Video\" width=\"550\"/>](https://www.youtube.com/watch?v=Gkgxa05aWec&list=PLLBUgWXdTBDhJJnJW2q2G7e84MZM6dxRN \"Course Overview\")"
   ]
  },
  {
   "cell_type": "markdown",
   "metadata": {},
   "source": [
    "### Create a Function\n",
    "\n",
    "![idea](https://apmonitor.com/che263/uploads/Begin_Matlab/idea.png)\n",
    "\n",
    "The way to tell the computer you are starting your own function is ```function```. It is followed by what is returned from function `y`, and equal sign `=`, the function name `myFunction`, and the input to the function `x`. This function returns the input without changing the value.\n",
    "\n",
    "```octave\n",
    "function y = myFunction(x)\n",
    "    y = x;\n",
    "end\n",
    "```"
   ]
  },
  {
   "cell_type": "markdown",
   "metadata": {},
   "source": [
    "### Option 1: Create a Regular Function\n",
    "\n",
    "Before Matlab R2016b, a function `myFunction` was always stored as a separate file as `myFunction.m`. A new option for including functions is to include the function in a script file such as this function that returns `y` as double the input number `x`."
   ]
  },
  {
   "cell_type": "code",
   "execution_count": null,
   "metadata": {},
   "outputs": [],
   "source": [
    "% create function\n",
    "function y = double_it(x)\n",
    "    y = x*2;\n",
    "end"
   ]
  },
  {
   "cell_type": "markdown",
   "metadata": {},
   "source": [
    "Try changing the value of the input `4` to another number to test the function result."
   ]
  },
  {
   "cell_type": "code",
   "execution_count": null,
   "metadata": {},
   "outputs": [],
   "source": [
    "double_it(4)"
   ]
  },
  {
   "cell_type": "markdown",
   "metadata": {},
   "source": [
    "### Option 2: Create an Anonymous Function\n",
    "\n",
    "The same `double_it` function can also be written as a single-line function that is called an `anonymous function`. Anonymous functions are valuable for simple functions that are typically just one line."
   ]
  },
  {
   "cell_type": "code",
   "execution_count": null,
   "metadata": {},
   "outputs": [],
   "source": [
    "double_it = @(x) 2*x;"
   ]
  },
  {
   "cell_type": "markdown",
   "metadata": {},
   "source": [
    "Try changing the value of the input `8` to another number to test the function result."
   ]
  },
  {
   "cell_type": "code",
   "execution_count": null,
   "metadata": {},
   "outputs": [],
   "source": [
    "double_it(8)"
   ]
  },
  {
   "cell_type": "markdown",
   "metadata": {},
   "source": [
    "### Functions Re-use Code\n",
    "\n",
    "A display function could be used such as the function `ctemp()` to print the current temperature. This re-uses the `disp` statement so that you don't need to type it out each time for temperatures 1 and 2."
   ]
  },
  {
   "cell_type": "code",
   "execution_count": null,
   "metadata": {},
   "outputs": [],
   "source": [
    "% create the anonymous function\n",
    "ctemp = @(temperature) disp(['Current temperature: ',num2str(temperature),'°C']);"
   ]
  },
  {
   "cell_type": "markdown",
   "metadata": {},
   "source": [
    "Suppose that you need to print the temperature every second for 5 seconds. The function can be called many times with different temperature values and no need to repeatedly write out the function code."
   ]
  },
  {
   "cell_type": "code",
   "execution_count": null,
   "metadata": {},
   "outputs": [],
   "source": [
    "% use the function 5 times\n",
    "ctemp(20.51)\n",
    "ctemp(22.57)\n",
    "ctemp(23.32)\n",
    "ctemp(24.26)\n",
    "ctemp(25.77)"
   ]
  },
  {
   "cell_type": "markdown",
   "metadata": {},
   "source": [
    "### Multiple Inputs\n",
    "\n",
    "A function can have more than one value in the function input ```()```. The inputs just need to be separated by a comma. If there is no input then you can leave off the ```()``` or else keep it empty. This function adds together `x` and `y`."
   ]
  },
  {
   "cell_type": "code",
   "execution_count": null,
   "metadata": {},
   "outputs": [],
   "source": [
    "function z = add(x,y)\n",
    "    z = x+y;\n",
    "end"
   ]
  },
  {
   "cell_type": "code",
   "execution_count": null,
   "metadata": {},
   "outputs": [],
   "source": [
    "add(2,3)"
   ]
  },
  {
   "cell_type": "markdown",
   "metadata": {},
   "source": [
    "### Multiple Outputs\n",
    "\n",
    "A function can also have more than one output. The output can be an array of values such as `[z1,z2]` or a single variable that is an array `z`."
   ]
  },
  {
   "cell_type": "code",
   "execution_count": null,
   "metadata": {},
   "outputs": [],
   "source": [
    "function z = multiple(x,y)\n",
    "    z(1) = x+y;\n",
    "    z(2) = x^y;\n",
    "end"
   ]
  },
  {
   "cell_type": "code",
   "execution_count": null,
   "metadata": {},
   "outputs": [],
   "source": [
    "z = multiple(2,3)"
   ]
  },
  {
   "cell_type": "markdown",
   "metadata": {},
   "source": [
    "### Activity\n",
    "\n",
    "![expert](https://apmonitor.com/che263/uploads/Begin_Matlab/expert.png)\n",
    "\n",
    "Make a function that divides two values. You can choose the two values or make them a user input. Use the example above for help if you need it."
   ]
  },
  {
   "cell_type": "code",
   "execution_count": null,
   "metadata": {},
   "outputs": [],
   "source": [
    "x = input('x: ');\n",
    "y = input('y: ');\n",
    "\n",
    "% create function to evaluate x/y"
   ]
  },
  {
   "cell_type": "markdown",
   "metadata": {},
   "source": [
    "### TCLab Functions\n",
    "\n",
    "![connections](https://apmonitor.com/che263/uploads/Begin_Matlab/connections.png)\n",
    "\n",
    "In the last lesson on objects, it mentioned the ```lab``` object. Objects can have functions that are used with a ```.``` and then the function name. Using functions, we can change things on our temperature kit values such as __light brightness__, __heater power__, and get __output temperatures__.\n",
    "\n",
    "***LED***\n",
    "\n",
    "```lab.LED()``` This function will set the light, that is labeled __Hot__, on your TCLab turn on at a certain brightness. If you want the light brightest you would use ```lab.LED(100)``` and all the way off ```lab.LED(0)```.\n",
    "\n",
    "***Heaters***\n",
    "\n",
    "```lab.Q1()``` or ```lab.Q2()``` will set the power percentage of heater one or two. Same as the ```LED``` function, ```Q1``` is set highest at ```lab.Q1(100)``` and off at ```lab.Q1(0)```. The other heater works the same way, ```Q2``` is set highest at ```lab.Q2(100)``` and off at ```lab.Q2(0)```\n",
    "\n",
    "***Temperatures***\n",
    "\n",
    "```lab.T1``` or ```lab.T2``` gives the current reading of the heater it corresponds to. It will give the values in __Celsius__.\n",
    "\n",
    "***Disconnecting***\n",
    "\n",
    "We also use ```lab.off()``` and ```clear lab```at the end of the program to disconnect the kit to make sure it doesn't keep running the heaters. You don't want your heaters on after you've ended the program."
   ]
  },
  {
   "cell_type": "markdown",
   "metadata": {},
   "source": [
    "### Activity\n",
    "\n",
    "![expert](https://apmonitor.com/che263/uploads/Begin_Matlab/expert.png)\n",
    "\n",
    "Turn on the LED to 70% and then turn it off after 10 seconds. Create a `function` to turn on the LED, print out the percent that it is on, and pause for 1 second. Call the function multiple times to verify that it works.  "
   ]
  },
  {
   "cell_type": "code",
   "execution_count": null,
   "metadata": {},
   "outputs": [],
   "source": []
  },
  {
   "cell_type": "markdown",
   "metadata": {},
   "source": [
    "Create a new function that adds to the prior function by also turning on the heater, ```lab.Q1```, to the same level as the LED. In addition to printing the level of the heater and LED have the function return temperatures 1 and 2."
   ]
  },
  {
   "cell_type": "code",
   "execution_count": null,
   "metadata": {},
   "outputs": [],
   "source": []
  },
  {
   "cell_type": "markdown",
   "metadata": {},
   "source": [
    "Make sure to disconnect the heaters after you finish. If the heaters don't turn off because of a bug in your code, clear the `lab` object with `clear lab`. If you get errors when you run your code, check out the __TCLab Help__ IPython notebook for common errors or search the [Frequently Asked Questions for Troubleshooting](https://apmonitor.com/pdc/index.php/Main/ArduinoSetup). You can also read the error descriptions Jupyter gives you below your code to diagnose the problem."
   ]
  }
 ],
 "metadata": {
  "kernelspec": {
   "display_name": "Matlab",
   "language": "matlab",
   "name": "matlab"
  },
  "language_info": {
   "codemirror_mode": "octave",
   "file_extension": ".m",
   "help_links": [
    {
     "text": "MetaKernel Magics",
     "url": "https://metakernel.readthedocs.io/en/latest/source/README.html"
    }
   ],
   "mimetype": "text/x-octave",
   "name": "matlab",
   "version": "0.16.9"
  }
 },
 "nbformat": 4,
 "nbformat_minor": 2
}
