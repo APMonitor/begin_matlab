{
 "cells": [
  {
   "cell_type": "markdown",
   "metadata": {},
   "source": [
    "## 6. Functions\n",
    "\n",
    "![list](https://apmonitor.com/che263/uploads/Begin_Python/list.png)\n",
    "\n",
    "Functions create modular code that can do the same task repeatedly without you having to type out the same code each time. Functions make complex code accessible with a single statement. You also can create your own function, but there are also some are built in to Matlab or in many packages. One built-in function you have already seen is the ```disp()``` function.\n",
    "\n",
    "[<img src=\"https://apmonitor.com/che263/uploads/Begin_Matlab/BeginMatlab06.png\" alt=\"YouTube Video\" width=\"550\"/>](https://www.youtube.com/watch?v=wuWLVbBFPuc&list=PLLBUgWXdTBDi3J05aMVG1knUpqRhkbc46 \"Course Overview\")"
   ]
  },
  {
   "cell_type": "markdown",
   "metadata": {},
   "source": [
    "### Create a Function\n",
    "\n",
    "![idea](https://apmonitor.com/che263/uploads/Begin_Python/idea.png)\n",
    "\n",
    "The way to tell the computer you are starting your own function is ```function```. It is followed by what is returned from function `y`, and equal sign `=`, the function name `myFunction`, and the input to the function `x`. This function returns the input without changing the value.\n",
    "\n",
    "```octave\n",
    "function y = myFunction(x)\n",
    "    y = x;\n",
    "end\n",
    "```"
   ]
  },
  {
   "cell_type": "markdown",
   "metadata": {},
   "source": [
    "### Option 1: Create a Regular Function\n",
    "\n",
    "Before Matlab R2016b, a function `myFunction` was always stored as a separate file as `myFunction.m`. A new option for including functions is to include the function in a script file such as this function that returns `y` as double the input number `x`."
   ]
  },
  {
   "cell_type": "code",
   "execution_count": 7,
   "metadata": {},
   "outputs": [],
   "source": [
    "% create function\n",
    "function y = double_it(x)\n",
    "    y = x*2;\n",
    "end"
   ]
  },
  {
   "cell_type": "markdown",
   "metadata": {},
   "source": [
    "Try changing the value of the input `4` to another number to test the function result."
   ]
  },
  {
   "cell_type": "code",
   "execution_count": 10,
   "metadata": {},
   "outputs": [
    {
     "name": "stdout",
     "output_type": "stream",
     "text": [
      "ans =  8\n"
     ]
    }
   ],
   "source": [
    "double_it(4)"
   ]
  },
  {
   "cell_type": "markdown",
   "metadata": {},
   "source": [
    "### Option 2: Create an Anonymous Function\n",
    "\n",
    "The same `double_it` function can also be written as a single-line function that is called an `anonymous function`. Anonymous functions are valuable for simple functions that are typically just one line."
   ]
  },
  {
   "cell_type": "code",
   "execution_count": 15,
   "metadata": {},
   "outputs": [],
   "source": [
    "double_it = @(x) 2*x;"
   ]
  },
  {
   "cell_type": "markdown",
   "metadata": {},
   "source": [
    "Try changing the value of the input `8` to another number to test the function result."
   ]
  },
  {
   "cell_type": "code",
   "execution_count": 16,
   "metadata": {},
   "outputs": [
    {
     "name": "stdout",
     "output_type": "stream",
     "text": [
      "ans =  16\n"
     ]
    }
   ],
   "source": [
    "double_it(8)"
   ]
  },
  {
   "cell_type": "markdown",
   "metadata": {},
   "source": [
    "### Functions Re-use Code\n",
    "\n",
    "A display function could be used such as the function `ctemp()` to print the current temperature. This re-uses the `disp` statement so that you don't need to type it out each time for temperatures 1 and 2."
   ]
  },
  {
   "cell_type": "code",
   "execution_count": 13,
   "metadata": {},
   "outputs": [],
   "source": [
    "% create the anonymous function\n",
    "ctemp = @(temperature) disp(['Current temperature: ',num2str(temperature),'°C']);"
   ]
  },
  {
   "cell_type": "markdown",
   "metadata": {},
   "source": [
    "Suppose that you need to print the temperature every second for 5 seconds. The function can be called many times with different temperature values and no need to repeatedly write out the function code."
   ]
  },
  {
   "cell_type": "code",
   "execution_count": 18,
   "metadata": {},
   "outputs": [
    {
     "name": "stdout",
     "output_type": "stream",
     "text": [
      "Current temperature: 20.51°C\n",
      "Current temperature: 22.57°C\n",
      "Current temperature: 23.32°C\n",
      "Current temperature: 24.26°C\n",
      "Current temperature: 25.77°C\n"
     ]
    }
   ],
   "source": [
    "% use the function 5 times\n",
    "ctemp(20.51)\n",
    "ctemp(22.57)\n",
    "ctemp(23.32)\n",
    "ctemp(24.26)\n",
    "ctemp(25.77)"
   ]
  },
  {
   "cell_type": "markdown",
   "metadata": {},
   "source": [
    "### Multiple Inputs\n",
    "\n",
    "A function can have more than one value in the function input ```()```. The inputs just need to be separated by a comma. If there is no input then you can leave off the ```()``` or else keep it empty. This function adds together `x` and `y`."
   ]
  },
  {
   "cell_type": "code",
   "execution_count": 24,
   "metadata": {},
   "outputs": [],
   "source": [
    "function z = add(x,y)\n",
    "    z = x+y;\n",
    "end"
   ]
  },
  {
   "cell_type": "code",
   "execution_count": 25,
   "metadata": {},
   "outputs": [
    {
     "name": "stdout",
     "output_type": "stream",
     "text": [
      "ans =  5\n"
     ]
    }
   ],
   "source": [
    "add(2,3)"
   ]
  },
  {
   "cell_type": "markdown",
   "metadata": {},
   "source": [
    "### Multiple Outputs\n",
    "\n",
    "A function can also have more than one output. The output can be an array of values such as `[z1,z2]` or a single variable that is an array `z`."
   ]
  },
  {
   "cell_type": "code",
   "execution_count": 33,
   "metadata": {},
   "outputs": [],
   "source": [
    "function z = multiple(x,y)\n",
    "    z(1) = x+y;\n",
    "    z(2) = x^y;\n",
    "end"
   ]
  },
  {
   "cell_type": "code",
   "execution_count": 35,
   "metadata": {},
   "outputs": [
    {
     "name": "stdout",
     "output_type": "stream",
     "text": [
      "z =\n",
      "\n",
      "   5   8\n",
      "\n"
     ]
    }
   ],
   "source": [
    "z = multiple(2,3)"
   ]
  },
  {
   "cell_type": "markdown",
   "metadata": {},
   "source": [
    "### Activity\n",
    "\n",
    "![expert](https://apmonitor.com/che263/uploads/Begin_Python/expert.png)\n",
    "\n",
    "Make a function that divides two values. You can choose the two values or make them a user input. Use the example above for help if you need it."
   ]
  },
  {
   "cell_type": "code",
   "execution_count": 38,
   "metadata": {},
   "outputs": [
    {
     "name": "stdout",
     "output_type": "stream",
     "text": [
      "x:5\n",
      "y:6\n"
     ]
    }
   ],
   "source": [
    "x = input('x: ');\n",
    "y = input('y: ');\n",
    "\n",
    "% create function to evaluate x/y"
   ]
  },
  {
   "cell_type": "markdown",
   "metadata": {},
   "source": [
    "### TCLab Functions\n",
    "\n",
    "![connections](https://apmonitor.com/che263/uploads/Begin_Python/connections.png)\n",
    "\n",
    "In the last lesson on objects, it mentioned the ```lab``` object. Objects can have functions that are used with a ```.``` and then the function name. Using functions, we can change things on our temperature kit values such as __light brightness__, __heater power__, and get __output temperatures__.\n",
    "\n",
    "***LED***\n",
    "\n",
    "```lab.LED()``` This function will set the light, that is labeled __Hot__, on your tclab turn on at a certain brightness. If you want the light brightest you would use ```lab.LED(100)``` and all the way off ```lab.LED(0)```.\n",
    "\n",
    "***Heaters***\n",
    "\n",
    "```lab.Q1()``` or ```lab.Q2()``` will set the power percentage of heater one or two. Same as the ```LED``` function, ```Q1``` is set highest at ```lab.Q1(100)``` and off at ```lab.Q1(0)```. The other heater works the same way, ```Q2``` is set highest at ```lab.Q2(100)``` and off at ```lab.Q2(0)```\n",
    "\n",
    "***Temperatures***\n",
    "\n",
    "```lab.T1``` or ```lab.T2``` gives the current reading of the heater it corresponds to. It will give the values in __Celsius__.\n",
    "\n",
    "***Disconnecting***\n",
    "\n",
    "We also use ```lab.off()``` and ```clear lab```at the end of the program to disconnect the kit to make sure it doesn't keep running the heaters. You don't want your heaters on after you've ended the program."
   ]
  },
  {
   "cell_type": "markdown",
   "metadata": {},
   "source": [
    "### Activity\n",
    "\n",
    "![expert](https://apmonitor.com/che263/uploads/Begin_Python/expert.png)\n",
    "\n",
    "Use the LED at 70% and then turn it off after 10 seconds. "
   ]
  },
  {
   "cell_type": "code",
   "execution_count": null,
   "metadata": {},
   "outputs": [],
   "source": [
    "lab = tclab                                   % Creates object: lab\n",
    "\n",
    "lab.LED('Put your percent here')              % light power percentage (0-100)\n",
    "time.sleep(\"How long you want it to turn on\") % program waits this many seconds\n",
    "lab.LED(0)                                    % Light Turned off\n",
    "\n",
    "lab.off(); clear lab                          % disconnects tclab"
   ]
  },
  {
   "cell_type": "markdown",
   "metadata": {},
   "source": [
    "Use heater one, ```lab.Q1```, at 40 percent and heater two, ```lab.Q2```, at 80 percent. Use ```disp()``` to record the temperatures with ```lab.T1``` and ```lab.T2``` after 10 seconds, with ```time.sleep()```. Make sure to disconnect the heaters after you record the temperatures. Use the LED activity and the descriptions above if you don't remember some of the functions. If the heaters don't turn off because of a bug in your code, unplug the cables connected to the lab to stop or restart the kernel to run the lab again. If you get errors when you run your code, check out the __TCLab Help__ IPython notebook for common errors or search the [Frequently Asked Questions for Troubleshooting](https://apmonitor.com/pdc/index.php/Main/ArduinoSetup). You can also read the error descriptions Jupyter gives you below your code to diagnose the problem."
   ]
  },
  {
   "cell_type": "code",
   "execution_count": null,
   "metadata": {},
   "outputs": [],
   "source": []
  }
 ],
 "metadata": {
  "anaconda-cloud": {},
  "kernelspec": {
   "display_name": "Octave",
   "language": "octave",
   "name": "octave"
  },
  "language_info": {
   "file_extension": ".m",
   "help_links": [
    {
     "text": "GNU Octave",
     "url": "https://www.gnu.org/software/octave/support.html"
    },
    {
     "text": "Octave Kernel",
     "url": "https://github.com/Calysto/octave_kernel"
    },
    {
     "text": "MetaKernel Magics",
     "url": "https://metakernel.readthedocs.io/en/latest/source/README.html"
    }
   ],
   "mimetype": "text/x-octave",
   "name": "octave",
   "version": "5.2.0"
  }
 },
 "nbformat": 4,
 "nbformat_minor": 4
}
