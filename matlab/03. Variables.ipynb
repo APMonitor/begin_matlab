{
 "cells": [
  {
   "cell_type": "markdown",
   "metadata": {},
   "source": [
    "## 3. Variables\n",
    "\n",
    "![chickens](https://apmonitor.com/che263/uploads/Begin_Python/chickens.png)\n",
    "\n",
    "Variables store information such as a number or a string. For example, if you wanted to keep a set temperature for an egg, you would type ```egg = 37.5``` for °C or ```egg = 99.5``` for °F. The first part tells what the variable will be called, and the value after the ```=``` tells what is being stored. \n",
    "\n",
    "[<img src=\"https://apmonitor.com/che263/uploads/Begin_Matlab/BeginMatlab03.png\" alt=\"YouTube Video\" width=\"550\"/>](https://www.youtube.com/watch?v=wuWLVbBFPuc&list=PLLBUgWXdTBDi3J05aMVG1knUpqRhkbc46 \"Course Overview\")\n",
    "\n",
    "### Types of Variables\n",
    "\n",
    "![idea](https://apmonitor.com/che263/uploads/Begin_Python/idea.png)\n",
    "\n",
    "There are many types of value types but for now, we’ll just go through the basics. You can run the code, but in this case the computer won't tell you anything, because it is only storing values. If you leave off the semi-colon `;` from the end then it displays the result of the assignment.\n",
    "\n",
    "While you can run a program by clicking the run button towards the top of the screen, a better way to run cells individually is to click a cell, then hold ```Ctrl``` and press ```Enter```. Running this way means you're running one cell at a time, instead of all at once. Some Jupyter Notebooks also have the run button to the left of the program cell."
   ]
  },
  {
   "cell_type": "markdown",
   "metadata": {},
   "source": [
    "#### Integers\n",
    "Integers are the value of a number like ```99```. You can use the function `int32(99.2)` or `int64(99.2)` to convert a number to an integer `99` as it rounds to the nearest whole number."
   ]
  },
  {
   "cell_type": "code",
   "execution_count": 1,
   "metadata": {},
   "outputs": [
    {
     "name": "stdout",
     "output_type": "stream",
     "text": [
      "\n",
      "temp =\n",
      "\n",
      "   99.2000\n",
      "\n",
      "\n"
     ]
    }
   ],
   "source": [
    "temp = 99.2"
   ]
  },
  {
   "cell_type": "markdown",
   "metadata": {},
   "source": [
    "#### Double Precision\n",
    "Double precision numbers, or ```double```, are basically the same thing, but with decimals like ```4.72```."
   ]
  },
  {
   "cell_type": "code",
   "execution_count": 8,
   "metadata": {},
   "outputs": [
    {
     "name": "stdout",
     "output_type": "stream",
     "text": [
      "price =  34.090\n"
     ]
    }
   ],
   "source": [
    "price = 34.09"
   ]
  },
  {
   "cell_type": "markdown",
   "metadata": {},
   "source": [
    "#### Strings\n",
    "Strings, or ```str```, are words or text, usually typed like ```\"hi\"```. You can use ```\"\"``` or ```''```."
   ]
  },
  {
   "cell_type": "code",
   "execution_count": 14,
   "metadata": {},
   "outputs": [
    {
     "name": "stdout",
     "output_type": "stream",
     "text": [
      "greeting = hi\n"
     ]
    }
   ],
   "source": [
    "greeting = \"hi\""
   ]
  },
  {
   "cell_type": "markdown",
   "metadata": {},
   "source": [
    "#### Boolean\n",
    "Boolean, or ```bool```, is a ```true``` or ```false``` Statement."
   ]
  },
  {
   "cell_type": "code",
   "execution_count": 12,
   "metadata": {},
   "outputs": [
    {
     "name": "stdout",
     "output_type": "stream",
     "text": [
      "answer = 1\n"
     ]
    }
   ],
   "source": [
    "answer = true"
   ]
  },
  {
   "cell_type": "markdown",
   "metadata": {},
   "source": [
    "### Comments \n",
    "Comments are just words in a program to explain what is happening. They don't do anything to the program. They are created with the ```%``` symbol."
   ]
  },
  {
   "cell_type": "code",
   "execution_count": null,
   "metadata": {},
   "outputs": [],
   "source": [
    "variable = \"random\" % This is a comment"
   ]
  },
  {
   "cell_type": "markdown",
   "metadata": {},
   "source": [
    "### Rules of Variables\n",
    "\n",
    "![list](https://apmonitor.com/che263/uploads/Begin_Python/list.png)\n",
    "\n",
    "#### Variable Naming\n",
    "In order to properly name a variable, it can only start with a __letters__ or an __underscore__. After the first character you can use __letters, __numbers__, and __underscores__. \n",
    "\n",
    "##### Matlab variables can start with:\n",
    "\n",
    "```_``` or **letters** (Recommended to start with lowercase)\n",
    "\n",
    "##### And are continued with:\n",
    "\n",
    "**Numbers** ```0-9``` ,**letters**, and __underscores__. Example:\n",
    "\n",
    "```matlab\n",
    "_this_is_a_variable_27 = \"Incubator Temperature Control\"\n",
    "```\n",
    "\n",
    "If you want to check your understanding, run incorrect variables and then fix the variable names to whatever you want. Make sure the it follows naming rules."
   ]
  },
  {
   "cell_type": "code",
   "execution_count": 15,
   "metadata": {},
   "outputs": [
    {
     "name": "stdout",
     "output_type": "stream",
     "text": [
      "parse error:\n",
      "\n",
      "  invalid constant left hand side of assignment\n",
      "\n",
      ">>> 375 = \"Important Egg Data\"  % Can't start with a number, change it to something else\n",
      "        ^\n",
      "\n",
      " 6\n"
     ]
    }
   ],
   "source": [
    "375 = \"Important Egg Data\"  % Can't start with a number, change it to something else\n",
    "\n",
    "badtemp$ = 6 % Look for the symbol, delete it"
   ]
  },
  {
   "cell_type": "markdown",
   "metadata": {},
   "source": [
    "### Variable Properties\n",
    "Variables can be assigned a value such as a string, integer, or float. If you assign them again later in the code it simply changes to that new assignment. For example, the code below would first use ```3``` for ```test```, but after would use ```egg``` instead. Unlike other programming languages, MATLAB variables are mutable (can change type). You can see the variable type with `class(test)`."
   ]
  },
  {
   "cell_type": "code",
   "execution_count": 16,
   "metadata": {},
   "outputs": [
    {
     "name": "stdout",
     "output_type": "stream",
     "text": [
      "test =  3\n",
      "test = egg\n",
      "ans = char\n"
     ]
    }
   ],
   "source": [
    "test = 3\n",
    "test = \"egg\"\n",
    "class(test)"
   ]
  },
  {
   "cell_type": "markdown",
   "metadata": {},
   "source": [
    "### Variable Usage\n",
    "Variables can be used in math or when you are trying to show a result, which is very useful but they do have restrictions. Different types of values typically can't be added together, such as ```5 + \"degC\"```. This can be fixed if you need __5degC__ to be output. Change the value type of ```5``` manually into a __char__, ```num2str(5) + \"degC\"```."
   ]
  },
  {
   "cell_type": "code",
   "execution_count": 20,
   "metadata": {},
   "outputs": [
    {
     "name": "stdout",
     "output_type": "stream",
     "text": [
      "combined_str = rightleft\n",
      "combined_int =  6\n",
      "combined_int_str = 5degC\n"
     ]
    }
   ],
   "source": [
    "combined_str = [\"right\", 'left']\n",
    "combined_int = 4 + 2\n",
    "combined_int_str = [int2str(5), \"degC\"]"
   ]
  },
  {
   "cell_type": "markdown",
   "metadata": {},
   "source": [
    "### Activity\n",
    "\n",
    "![expert](https://apmonitor.com/che263/uploads/Begin_Python/expert.png)\n",
    "\n",
    "Make one variable for every variable type: char, integer, double, and boolean.\n",
    "\n",
    "(The ```%``` symbol makes the text behind it a comment. Those words are just for discribing the program, they don't do anything to the code.)"
   ]
  },
  {
   "cell_type": "code",
   "execution_count": 1,
   "metadata": {},
   "outputs": [
    {
     "name": "stdout",
     "output_type": "stream",
     "text": [
      "parse error:\n",
      "\n",
      "  syntax error\n",
      "\n",
      ">>> string = \n",
      "            ^\n",
      "\n",
      "parse error:\n",
      "\n",
      "  syntax error\n",
      "\n",
      ">>> integer = \n",
      "             ^\n",
      "\n",
      "parse error:\n",
      "\n",
      "  syntax error\n",
      "\n",
      ">>> double1 =      # \"double\" in code is already assigned so \"double1\" is used to avoid errors\n",
      "                                                                                             ^\n",
      "\n",
      "parse error:\n",
      "\n",
      "  syntax error\n",
      "\n",
      ">>> boolean =\n",
      "            ^\n",
      "\n"
     ]
    }
   ],
   "source": [
    "string = \n",
    "integer = \n",
    "double1 =      # \"double\" in code is already assigned so \"double1\" is used to avoid errors\n",
    "boolean = "
   ]
  },
  {
   "cell_type": "markdown",
   "metadata": {},
   "source": [
    "Try making your own variable to store your chicken's name. Make sure to change the assignment name from ```yourVariable``` to what the information is about so you remember. \n",
    "\n",
    "Then combine the variables, ```x``` and ```y```, below by changing their types to __strings__. If you get stuck, the example just above changes ```integer``` 5 into a string. Use the same code on x and y."
   ]
  },
  {
   "cell_type": "code",
   "execution_count": 21,
   "metadata": {},
   "outputs": [
    {
     "name": "stdout",
     "output_type": "stream",
     "text": [
      "parse error:\n",
      "\n",
      "  syntax error\n",
      "\n",
      ">>> ChickenName = \n",
      "                 ^\n",
      "\n",
      "error: 'True' undefined near line 1 column 5\n",
      "y =  236.40\n",
      "error: 'x' undefined near line 1 column 13\n"
     ]
    }
   ],
   "source": [
    "ChickenName = \n",
    "x = True             # This is a Boolean\n",
    "y = 236.4            # This is a float\n",
    "combined = x + y     # Make x and y strings"
   ]
  },
  {
   "cell_type": "markdown",
   "metadata": {},
   "source": [
    "![expert](https://apmonitor.com/che263/uploads/Begin_Python/expert.png)\n",
    "\n",
    "Connect the USB communication cable to the Arduino. The white power cable is not needed for this exercise.\n",
    "\n",
    "![connections_no_power](https://apmonitor.com/che263/uploads/Begin_Python/connections_no_power.png)\n",
    "\n",
    "Calculate the average of 3 temperature values. Connect to the TCLab with `lab=tclab`, read the temperature values 3 times with `lab.T1`, store the values in variables `TC1`, `TC2`, and `TC3`, and display the average of the 3 values.\n",
    "\n",
    "$T_{avg} = \\frac{T_{C1}+T_{C2}+T_{C3}}{3}$\n",
    "\n",
    "Close the connection to the TCLab with `clear lab`."
   ]
  },
  {
   "cell_type": "code",
   "execution_count": 6,
   "metadata": {},
   "outputs": [
    {
     "name": "stdout",
     "output_type": "stream",
     "text": [
      " 23.021\n",
      " 23.118\n",
      " 22.972\n"
     ]
    }
   ],
   "source": [
    "clear all\n",
    "lab = tclab; % connect to TCLab\n",
    "\n",
    "% read 3 temperatures\n",
    "disp(lab.T1)\n",
    "disp(lab.T1)\n",
    "disp(lab.T1)\n",
    "\n",
    "% calculate and display average\n",
    "\n",
    "clear lab    % disconnect from TCLab"
   ]
  }
 ],
 "metadata": {
  "kernelspec": {
   "display_name": "Matlab",
   "language": "matlab",
   "name": "matlab"
  },
  "language_info": {
   "codemirror_mode": "octave",
   "file_extension": ".m",
   "help_links": [
    {
     "text": "MetaKernel Magics",
     "url": "https://metakernel.readthedocs.io/en/latest/source/README.html"
    }
   ],
   "mimetype": "text/x-octave",
   "name": "matlab",
   "version": "0.16.9"
  }
 },
 "nbformat": 4,
 "nbformat_minor": 4
}
